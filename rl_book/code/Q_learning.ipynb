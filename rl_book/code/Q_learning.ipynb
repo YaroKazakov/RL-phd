{
 "cells": [
  {
   "cell_type": "code",
   "execution_count": 1,
   "id": "39d7f44f",
   "metadata": {},
   "outputs": [],
   "source": [
    "#Implementation of a Q-learning algorithm in a 4x4 grid world"
   ]
  },
  {
   "cell_type": "code",
   "execution_count": 2,
   "id": "bfda6d86",
   "metadata": {},
   "outputs": [],
   "source": [
    "#This is the 4x4 grid world with S as the start and T as the exit\n",
    "#Rewards are 0 for every state except for T which is +10\n",
    "#S . . T\n",
    "#. . . .\n",
    "#. . . .\n",
    "#. . . ."
   ]
  },
  {
   "cell_type": "code",
   "execution_count": 14,
   "id": "6aaaeb86",
   "metadata": {},
   "outputs": [],
   "source": [
    "import random\n",
    "import numpy as np"
   ]
  },
  {
   "cell_type": "code",
   "execution_count": 103,
   "id": "9092c7ae",
   "metadata": {},
   "outputs": [],
   "source": [
    "GRID_SIZE = 4\n",
    "actions   = [\"up\", \"down\", \"left\", \"right\"]\n",
    "reward_grid       = np.zeros((GRID_SIZE, GRID_SIZE))\n",
    "reward_grid[:,:]  = -1\n",
    "reward_grid[0, 3] = 10  # Goal position has a reward of +10\n",
    "Q         = np.zeros((GRID_SIZE, GRID_SIZE, len(actions)))\n",
    "terminal_state = (0,3)\n",
    "epsilon = 0.2\n",
    "alpha   = 0.1\n",
    "gamma   = 0.9\n",
    "episodes = 100000"
   ]
  },
  {
   "cell_type": "code",
   "execution_count": 104,
   "id": "603c10be",
   "metadata": {},
   "outputs": [],
   "source": [
    "def next_state(current_state, action):\n",
    "    x, y = current_state\n",
    "    if action == \"up\":\n",
    "        next_state = (max(0, x - 1), y)  # Move up (row decreases)\n",
    "    elif action == \"down\":\n",
    "        next_state = (min(GRID_SIZE - 1, x + 1), y)  # Move down (row increases)\n",
    "    elif action == \"left\":\n",
    "        next_state = (x, max(0, y - 1))  # Move left (column decreases)\n",
    "    elif action == \"right\":\n",
    "        next_state = (x, min(GRID_SIZE - 1, y + 1))  # Move right (column increases)\n",
    "    return next_state"
   ]
  },
  {
   "cell_type": "code",
   "execution_count": 105,
   "id": "c1bfc7a6",
   "metadata": {},
   "outputs": [],
   "source": [
    "for episode in range(episodes):\n",
    "    \n",
    "    current_state = (0,0)\n",
    "    \n",
    "    while current_state != terminal_state:\n",
    "        x,y = current_state\n",
    "        if np.random.uniform(0,1) < epsilon:\n",
    "            action = random.choice(actions)\n",
    "        else:\n",
    "            action_index = np.argmax(Q[x,y])\n",
    "            action = actions[action_index]\n",
    "\n",
    "       \n",
    "        next_s = next_state(current_state, action)\n",
    "        x_next, y_next = next_s\n",
    "        \n",
    "        reward = reward_grid[x_next, y_next]\n",
    "        action_index = actions.index(action)\n",
    "        \n",
    "        Q[x,y,action_index] = Q[x,y,action_index] + alpha* (reward + gamma* np.max(Q[x_next, y_next]) - Q[x,y,action_index])\n",
    "        \n",
    "        current_state = (x_next, y_next) \n"
   ]
  },
  {
   "cell_type": "code",
   "execution_count": 106,
   "id": "814f90e9",
   "metadata": {},
   "outputs": [],
   "source": [
    "policy = np.zeros((GRID_SIZE, GRID_SIZE), dtype=str)\n",
    "for i in range(GRID_SIZE):\n",
    "    for j in range(GRID_SIZE):\n",
    "        state = (i,j)\n",
    "        if state == terminal_state:\n",
    "            policy[i,j] = \"T\"\n",
    "        else:\n",
    "            policy[i,j] = actions[np.argmax(Q[i,j])][0].upper()"
   ]
  },
  {
   "cell_type": "code",
   "execution_count": 107,
   "id": "8a7632a4",
   "metadata": {},
   "outputs": [
    {
     "data": {
      "text/plain": [
       "array([['R', 'R', 'R', 'T'],\n",
       "       ['U', 'U', 'U', 'U'],\n",
       "       ['U', 'U', 'U', 'U'],\n",
       "       ['U', 'U', 'U', 'U']], dtype='<U1')"
      ]
     },
     "execution_count": 107,
     "metadata": {},
     "output_type": "execute_result"
    }
   ],
   "source": [
    "policy"
   ]
  },
  {
   "cell_type": "code",
   "execution_count": null,
   "id": "b1d62dbe",
   "metadata": {},
   "outputs": [],
   "source": []
  }
 ],
 "metadata": {
  "kernelspec": {
   "display_name": "Python 3 (ipykernel)",
   "language": "python",
   "name": "python3"
  },
  "language_info": {
   "codemirror_mode": {
    "name": "ipython",
    "version": 3
   },
   "file_extension": ".py",
   "mimetype": "text/x-python",
   "name": "python",
   "nbconvert_exporter": "python",
   "pygments_lexer": "ipython3",
   "version": "3.11.4"
  }
 },
 "nbformat": 4,
 "nbformat_minor": 5
}
