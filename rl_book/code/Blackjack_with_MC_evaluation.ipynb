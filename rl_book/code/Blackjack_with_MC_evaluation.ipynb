{
 "cells": [
  {
   "cell_type": "code",
   "execution_count": 1,
   "id": "788e8144",
   "metadata": {},
   "outputs": [],
   "source": [
    "import random\n",
    "import numpy as np"
   ]
  },
  {
   "cell_type": "code",
   "execution_count": 2,
   "id": "8e040662",
   "metadata": {},
   "outputs": [],
   "source": [
    "# Need to simulate 500,000 episodes with usable and non-usable ace\n",
    "# A usable ace is the one that can be used as 11 without going bust.\n",
    "# In this case it is always counted as 11 because counting it as 1 would make the sum 11 or less,\n",
    "# in which case there is no decision to be made because, obviously, the player should always hit."
   ]
  },
  {
   "cell_type": "code",
   "execution_count": 6,
   "id": "02af8d6e",
   "metadata": {},
   "outputs": [],
   "source": [
    "rewards      = np.array([-1, 0, 1])\n",
    "gamma        = 1\n",
    "actions      = [\"hit\", \"stick\"]\n",
    "cards        = [2,3,4,5,6,7,8,9,10,10,10,10,\"A\"] #[2,3,4,5,6,7,8,9,10,\"J\",\"Q\",\"K\",\"A\"]\n",
    "my_two_cards = random.choices(cards, k=2)\n",
    "dealers_card = random.choice(cards)\n",
    "episodes     = 1000000\n",
    "# Define the state space\n",
    "\n",
    "rows = list(range(12, 22))  # Player's sum\n",
    "cols = [\"A\"] + list(range(2, 11))  # Dealer's showing card\n",
    "usable = 2  # Do I have a usable Ace? (0 or 1)\n",
    "state_value = np.zeros((len(rows), len(cols), usable))\n",
    "\n",
    "visit_count = np.zeros((len(rows), len(cols), usable))"
   ]
  },
  {
   "cell_type": "code",
   "execution_count": 7,
   "id": "f9cc081d",
   "metadata": {},
   "outputs": [],
   "source": [
    "# Test the policy of sticking on 20 and 21 only"
   ]
  },
  {
   "cell_type": "code",
   "execution_count": 8,
   "id": "be55133e",
   "metadata": {},
   "outputs": [],
   "source": [
    "#Helper functions\n",
    "\n",
    "def draw_a_card():\n",
    "    return random.choice(cards)\n",
    "\n",
    "def card_value(card):\n",
    "    if card == \"A\":\n",
    "        return 11 # usable by default \n",
    "    return int(card)\n",
    "\n",
    "def calculate_sum(hand):\n",
    "    total = sum(card_value(card) for card in hand)\n",
    "    ace_count = hand.count(\"A\")\n",
    "    # Adjust for usable ace\n",
    "    while total > 21 and ace_count > 0: #total can be below 21 with one usable ace or total can be >21 with no aces left hence bust\n",
    "        total -= 10\n",
    "        ace_count -= 1\n",
    "    usable_ace_count = ace_count\n",
    "    return total, usable_ace_count\n",
    "\n",
    "def has_usable_ace(count):\n",
    "    return True if count > 0 else False\n",
    "    \n",
    "def policy(player_sum):\n",
    "    return \"stick\" if player_sum >= 20 else \"hit\""
   ]
  },
  {
   "cell_type": "code",
   "execution_count": 9,
   "id": "b29a407e",
   "metadata": {
    "scrolled": false
   },
   "outputs": [],
   "source": [
    "for episode in range(episodes):\n",
    "    # Player's and dealer's starting cards\n",
    "    dealer_hand = [draw_a_card(), draw_a_card()]\n",
    "    player_hand = [draw_a_card(), draw_a_card()]\n",
    "\n",
    "    # Dealer shows one card\n",
    "    dealer_showing_card = dealer_hand[0]\n",
    "    dealer_showing_card_idx = cols.index(dealer_showing_card)\n",
    "    \n",
    "    # Determine the player's initial sum and usable ace\n",
    "    player_sum, usable_ace_count = calculate_sum(player_hand)\n",
    "    usable_ace = has_usable_ace(usable_ace_count)\n",
    "    #print(f'Episode: {episode +1}, Player_hand: {player_hand}, Player_sum: {player_sum}, Usable_ace_count:{usable_ace_count}')    \n",
    "    \n",
    "    episode_states = []\n",
    "    \n",
    "    episode_states.append((int(player_sum - 12), dealer_showing_card_idx, int(usable_ace_count)))\n",
    "    \n",
    "    # PLAYER'S TURN\n",
    "    while policy(player_sum) == \"hit\":\n",
    "        player_hand.append(draw_a_card())\n",
    "        player_sum, usable_ace_count = calculate_sum(player_hand)\n",
    "        #print(f'Player_hand: {player_hand}, Player_sum: {player_sum}, Usable_ace_count:{usable_ace_count}')\n",
    "        if player_sum > 21:\n",
    "            reward = - 1\n",
    "            #print('BUST!')\n",
    "            break  # Player goes bust\n",
    "        episode_states.append((int(player_sum - 12), dealer_showing_card_idx, int(usable_ace_count)))\n",
    "    \n",
    "    # DEALER'S TURN (if player hasn't gone bust)\n",
    "    if player_sum <= 21:\n",
    "        dealer_sum,_ = calculate_sum(dealer_hand)\n",
    "        while dealer_sum < 17:  # Dealer hits on sums less than 17\n",
    "            dealer_hand.append(draw_a_card())\n",
    "            dealer_sum, _  = calculate_sum(dealer_hand)\n",
    "\n",
    "        # Determine outcome\n",
    "        if dealer_sum > 21 or player_sum > dealer_sum:\n",
    "            reward = 1  # Player wins\n",
    "        elif player_sum == dealer_sum:\n",
    "            reward = 0  # Draw\n",
    "        else:\n",
    "            reward = -1  # Player loses\n",
    "    else:\n",
    "        reward = -1  # Player goes bust\n",
    "        #dealer_wins += 1\n",
    "\n",
    "    G = reward # Since the reward is only awarded in the end and gamma is 1.\n",
    "    \n",
    "    for idx, state in enumerate(episode_states):\n",
    "         if state not in episode_states[:idx]:  # First visit to this state\n",
    "            visit_count[state[0], state[1], state[2]] += 1\n",
    "            # Incremental update of the state value\n",
    "            state_value[state[0], state[1], state[2]] += \\\n",
    "                (1 / visit_count[state]) * (G - state_value[state[0], state[1], state[2]])\n",
    "        \n"
   ]
  },
  {
   "cell_type": "code",
   "execution_count": 29,
   "id": "45dc9a17",
   "metadata": {},
   "outputs": [
    {
     "data": {
      "application/vnd.plotly.v1+json": {
       "config": {
        "plotlyServerURL": "https://plot.ly"
       },
       "data": [
        {
         "colorscale": [
          [
           0,
           "#440154"
          ],
          [
           0.1111111111111111,
           "#482878"
          ],
          [
           0.2222222222222222,
           "#3e4989"
          ],
          [
           0.3333333333333333,
           "#31688e"
          ],
          [
           0.4444444444444444,
           "#26828e"
          ],
          [
           0.5555555555555556,
           "#1f9e89"
          ],
          [
           0.6666666666666666,
           "#35b779"
          ],
          [
           0.7777777777777778,
           "#6ece58"
          ],
          [
           0.8888888888888888,
           "#b5de2b"
          ],
          [
           1,
           "#fde725"
          ]
         ],
         "scene": "scene",
         "type": "surface",
         "x": [
          [
           12,
           13,
           14,
           15,
           16,
           17,
           18,
           19,
           20,
           21
          ],
          [
           12,
           13,
           14,
           15,
           16,
           17,
           18,
           19,
           20,
           21
          ],
          [
           12,
           13,
           14,
           15,
           16,
           17,
           18,
           19,
           20,
           21
          ],
          [
           12,
           13,
           14,
           15,
           16,
           17,
           18,
           19,
           20,
           21
          ],
          [
           12,
           13,
           14,
           15,
           16,
           17,
           18,
           19,
           20,
           21
          ],
          [
           12,
           13,
           14,
           15,
           16,
           17,
           18,
           19,
           20,
           21
          ],
          [
           12,
           13,
           14,
           15,
           16,
           17,
           18,
           19,
           20,
           21
          ],
          [
           12,
           13,
           14,
           15,
           16,
           17,
           18,
           19,
           20,
           21
          ],
          [
           12,
           13,
           14,
           15,
           16,
           17,
           18,
           19,
           20,
           21
          ],
          [
           12,
           13,
           14,
           15,
           16,
           17,
           18,
           19,
           20,
           21
          ]
         ],
         "y": [
          [
           1,
           1,
           1,
           1,
           1,
           1,
           1,
           1,
           1,
           1
          ],
          [
           2,
           2,
           2,
           2,
           2,
           2,
           2,
           2,
           2,
           2
          ],
          [
           3,
           3,
           3,
           3,
           3,
           3,
           3,
           3,
           3,
           3
          ],
          [
           4,
           4,
           4,
           4,
           4,
           4,
           4,
           4,
           4,
           4
          ],
          [
           5,
           5,
           5,
           5,
           5,
           5,
           5,
           5,
           5,
           5
          ],
          [
           6,
           6,
           6,
           6,
           6,
           6,
           6,
           6,
           6,
           6
          ],
          [
           7,
           7,
           7,
           7,
           7,
           7,
           7,
           7,
           7,
           7
          ],
          [
           8,
           8,
           8,
           8,
           8,
           8,
           8,
           8,
           8,
           8
          ],
          [
           9,
           9,
           9,
           9,
           9,
           9,
           9,
           9,
           9,
           9
          ],
          [
           10,
           10,
           10,
           10,
           10,
           10,
           10,
           10,
           10,
           10
          ]
         ],
         "z": [
          [
           -0.6414747540274607,
           -0.679653227491122,
           -0.7023750862323848,
           -0.7035422848664686,
           -0.7130044843049341,
           -0.7373850459816066,
           -0.7463628266033258,
           -0.7592320089692381,
           0.0444586258242927,
           0.3208605390925832
          ],
          [
           -0.540327005376937,
           -0.5749333333333343,
           -0.6100685135537662,
           -0.6271217045864931,
           -0.649815149170323,
           -0.6609100228688599,
           -0.6816046528968756,
           -0.6826372694509252,
           0.48348364373765707,
           0.5239126812198008
          ],
          [
           -0.5439106145251401,
           -0.5704010462074939,
           -0.5963231736816652,
           -0.613183730715285,
           -0.6524834863172336,
           -0.6661629016862879,
           -0.6807251202367737,
           -0.6889474809377899,
           0.49050548274939787,
           0.5203047810432926
          ],
          [
           -0.5360285109700443,
           -0.5772654155495984,
           -0.5904507710557536,
           -0.6172738062631228,
           -0.6286848551397993,
           -0.6576576576576603,
           -0.6790910454477281,
           -0.683705845025737,
           0.5032945840252849,
           0.5373196564089795
          ],
          [
           -0.5381894550679758,
           -0.5647646371267663,
           -0.5930552823135944,
           -0.6276440554339876,
           -0.6465367211973574,
           -0.6601219222547701,
           -0.6686625252600835,
           -0.6772657234906815,
           0.5188418139237782,
           0.5429550392779557
          ],
          [
           -0.519815567021629,
           -0.5806693842523064,
           -0.5767068273092351,
           -0.6062682748538037,
           -0.6285641763262546,
           -0.6537017810079031,
           -0.6673890300403544,
           -0.6780921921713157,
           0.5455696870547277,
           0.5587869748943578
          ],
          [
           -0.5161185281667205,
           -0.5469914942770142,
           -0.5805250783699085,
           -0.6135522872868382,
           -0.61724313326551,
           -0.6492691452176705,
           -0.6696575444893056,
           -0.6672103247766283,
           0.5956569979394485,
           0.5793948487121782
          ],
          [
           -0.5236582694414035,
           -0.5673046420640779,
           -0.5781679089839139,
           -0.6002383353194622,
           -0.6240894460443864,
           -0.6429532325710238,
           -0.669087369918397,
           -0.6728304265602036,
           0.6250269570843213,
           0.5634986684420802
          ],
          [
           -0.536329085624859,
           -0.562959848644104,
           -0.5774936560609029,
           -0.5940005404918506,
           -0.6312062716007762,
           -0.6540437979286905,
           -0.6675655430711609,
           -0.6565754756283836,
           0.5901145904842364,
           0.5696741854636567
          ],
          [
           -0.5681441361777418,
           -0.5987155472303939,
           -0.6224931183641361,
           -0.6460092182722569,
           -0.6637394804244384,
           -0.677199145691529,
           -0.6921114855430003,
           -0.7035856009070361,
           0.31243991026599244,
           0.5192006269592403
          ]
         ]
        },
        {
         "colorscale": [
          [
           0,
           "#440154"
          ],
          [
           0.1111111111111111,
           "#482878"
          ],
          [
           0.2222222222222222,
           "#3e4989"
          ],
          [
           0.3333333333333333,
           "#31688e"
          ],
          [
           0.4444444444444444,
           "#26828e"
          ],
          [
           0.5555555555555556,
           "#1f9e89"
          ],
          [
           0.6666666666666666,
           "#35b779"
          ],
          [
           0.7777777777777778,
           "#6ece58"
          ],
          [
           0.8888888888888888,
           "#b5de2b"
          ],
          [
           1,
           "#fde725"
          ]
         ],
         "scene": "scene2",
         "type": "surface",
         "x": [
          [
           12,
           13,
           14,
           15,
           16,
           17,
           18,
           19,
           20,
           21
          ],
          [
           12,
           13,
           14,
           15,
           16,
           17,
           18,
           19,
           20,
           21
          ],
          [
           12,
           13,
           14,
           15,
           16,
           17,
           18,
           19,
           20,
           21
          ],
          [
           12,
           13,
           14,
           15,
           16,
           17,
           18,
           19,
           20,
           21
          ],
          [
           12,
           13,
           14,
           15,
           16,
           17,
           18,
           19,
           20,
           21
          ],
          [
           12,
           13,
           14,
           15,
           16,
           17,
           18,
           19,
           20,
           21
          ],
          [
           12,
           13,
           14,
           15,
           16,
           17,
           18,
           19,
           20,
           21
          ],
          [
           12,
           13,
           14,
           15,
           16,
           17,
           18,
           19,
           20,
           21
          ],
          [
           12,
           13,
           14,
           15,
           16,
           17,
           18,
           19,
           20,
           21
          ],
          [
           12,
           13,
           14,
           15,
           16,
           17,
           18,
           19,
           20,
           21
          ]
         ],
         "y": [
          [
           1,
           1,
           1,
           1,
           1,
           1,
           1,
           1,
           1,
           1
          ],
          [
           2,
           2,
           2,
           2,
           2,
           2,
           2,
           2,
           2,
           2
          ],
          [
           3,
           3,
           3,
           3,
           3,
           3,
           3,
           3,
           3,
           3
          ],
          [
           4,
           4,
           4,
           4,
           4,
           4,
           4,
           4,
           4,
           4
          ],
          [
           5,
           5,
           5,
           5,
           5,
           5,
           5,
           5,
           5,
           5
          ],
          [
           6,
           6,
           6,
           6,
           6,
           6,
           6,
           6,
           6,
           6
          ],
          [
           7,
           7,
           7,
           7,
           7,
           7,
           7,
           7,
           7,
           7
          ],
          [
           8,
           8,
           8,
           8,
           8,
           8,
           8,
           8,
           8,
           8
          ],
          [
           9,
           9,
           9,
           9,
           9,
           9,
           9,
           9,
           9,
           9
          ],
          [
           10,
           10,
           10,
           10,
           10,
           10,
           10,
           10,
           10,
           10
          ]
         ],
         "z": [
          [
           -0.42562929061784893,
           -0.420124481327801,
           -0.46673490276356183,
           -0.49520488230165705,
           -0.4951219512195123,
           -0.5167737330478243,
           -0.5539182853315485,
           -0.5377588306942754,
           0.1269251194901751,
           0.6330367974120519
          ],
          [
           -0.20408163265306126,
           -0.23917748917748924,
           -0.3200398803589232,
           -0.34133333333333404,
           -0.3533898305084741,
           -0.40495867768595045,
           -0.436860068259386,
           -0.39879879879879915,
           0.6620155038759682,
           0.8878545139640608
          ],
          [
           -0.24943820224719113,
           -0.27882599580712747,
           -0.3279313632030501,
           -0.37972350230414725,
           -0.41399176954732475,
           -0.39258698940998515,
           -0.40385894876912887,
           -0.45356500898741803,
           0.6386375731772228,
           0.893513393845473
          ],
          [
           -0.21304347826086956,
           -0.32221063607924955,
           -0.27857142857142875,
           -0.35860838537020506,
           -0.36467702371218297,
           -0.35415188076650095,
           -0.4125255275697753,
           -0.43317132442284384,
           0.6677299308878261,
           0.8872942169691828
          ],
          [
           -0.23608017817371948,
           -0.2376636455186303,
           -0.32429906542056103,
           -0.3695466210436275,
           -0.34150076569678384,
           -0.3648351648351649,
           -0.4149797570850206,
           -0.4683038263849231,
           0.70708661417323,
           0.8922846762128651
          ],
          [
           -0.3256351039260972,
           -0.2684782608695655,
           -0.27935222672064797,
           -0.37858347386172003,
           -0.3488372093023254,
           -0.39009071877180734,
           -0.44422442244224364,
           -0.4354838709677425,
           0.6816479400749049,
           0.9032676909759779
          ],
          [
           -0.24737945492662508,
           -0.18415841584158402,
           -0.26082677165354345,
           -0.3003565062388598,
           -0.3367029548989113,
           -0.3405797101449281,
           -0.37868338557993797,
           -0.43379790940766594,
           0.7691146881287726,
           0.922077922077924
          ],
          [
           -0.26914660831509846,
           -0.2668024439918531,
           -0.2702960840496651,
           -0.2788461538461535,
           -0.2725819344524383,
           -0.33429811866859604,
           -0.39655172413793094,
           -0.42759015455065835,
           0.7799791449426497,
           0.9312215231069662
          ],
          [
           -0.19212962962962965,
           -0.18446601941747542,
           -0.21923076923076937,
           -0.2676295666949873,
           -0.31276778063410454,
           -0.3568406205923842,
           -0.40987812700448983,
           -0.384979302188054,
           0.7325933400605456,
           0.9469467301862285
          ],
          [
           -0.3232662192393746,
           -0.31027987082884884,
           -0.3558580456976181,
           -0.36359733848465314,
           -0.40460460460460507,
           -0.43120260021668394,
           -0.46855551916147975,
           -0.46843267108167674,
           0.4304232804232806,
           0.892939721460452
          ]
         ]
        }
       ],
       "layout": {
        "annotations": [
         {
          "font": {
           "size": 16
          },
          "showarrow": false,
          "text": "State Values (No usable Ace)",
          "x": 0.225,
          "xanchor": "center",
          "xref": "paper",
          "y": 1,
          "yanchor": "bottom",
          "yref": "paper"
         },
         {
          "font": {
           "size": 16
          },
          "showarrow": false,
          "text": "State Values (Usable Ace)",
          "x": 0.775,
          "xanchor": "center",
          "xref": "paper",
          "y": 1,
          "yanchor": "bottom",
          "yref": "paper"
         }
        ],
        "height": 600,
        "scene": {
         "domain": {
          "x": [
           0,
           0.45
          ],
          "y": [
           0,
           1
          ]
         },
         "xaxis": {
          "title": {
           "text": "Player's Sum"
          }
         },
         "yaxis": {
          "title": {
           "text": "Dealer's Showing Card"
          }
         },
         "zaxis": {
          "title": {
           "text": "State Value"
          }
         }
        },
        "scene2": {
         "domain": {
          "x": [
           0.55,
           1
          ],
          "y": [
           0,
           1
          ]
         }
        },
        "template": {
         "data": {
          "bar": [
           {
            "error_x": {
             "color": "#2a3f5f"
            },
            "error_y": {
             "color": "#2a3f5f"
            },
            "marker": {
             "line": {
              "color": "#E5ECF6",
              "width": 0.5
             },
             "pattern": {
              "fillmode": "overlay",
              "size": 10,
              "solidity": 0.2
             }
            },
            "type": "bar"
           }
          ],
          "barpolar": [
           {
            "marker": {
             "line": {
              "color": "#E5ECF6",
              "width": 0.5
             },
             "pattern": {
              "fillmode": "overlay",
              "size": 10,
              "solidity": 0.2
             }
            },
            "type": "barpolar"
           }
          ],
          "carpet": [
           {
            "aaxis": {
             "endlinecolor": "#2a3f5f",
             "gridcolor": "white",
             "linecolor": "white",
             "minorgridcolor": "white",
             "startlinecolor": "#2a3f5f"
            },
            "baxis": {
             "endlinecolor": "#2a3f5f",
             "gridcolor": "white",
             "linecolor": "white",
             "minorgridcolor": "white",
             "startlinecolor": "#2a3f5f"
            },
            "type": "carpet"
           }
          ],
          "choropleth": [
           {
            "colorbar": {
             "outlinewidth": 0,
             "ticks": ""
            },
            "type": "choropleth"
           }
          ],
          "contour": [
           {
            "colorbar": {
             "outlinewidth": 0,
             "ticks": ""
            },
            "colorscale": [
             [
              0,
              "#0d0887"
             ],
             [
              0.1111111111111111,
              "#46039f"
             ],
             [
              0.2222222222222222,
              "#7201a8"
             ],
             [
              0.3333333333333333,
              "#9c179e"
             ],
             [
              0.4444444444444444,
              "#bd3786"
             ],
             [
              0.5555555555555556,
              "#d8576b"
             ],
             [
              0.6666666666666666,
              "#ed7953"
             ],
             [
              0.7777777777777778,
              "#fb9f3a"
             ],
             [
              0.8888888888888888,
              "#fdca26"
             ],
             [
              1,
              "#f0f921"
             ]
            ],
            "type": "contour"
           }
          ],
          "contourcarpet": [
           {
            "colorbar": {
             "outlinewidth": 0,
             "ticks": ""
            },
            "type": "contourcarpet"
           }
          ],
          "heatmap": [
           {
            "colorbar": {
             "outlinewidth": 0,
             "ticks": ""
            },
            "colorscale": [
             [
              0,
              "#0d0887"
             ],
             [
              0.1111111111111111,
              "#46039f"
             ],
             [
              0.2222222222222222,
              "#7201a8"
             ],
             [
              0.3333333333333333,
              "#9c179e"
             ],
             [
              0.4444444444444444,
              "#bd3786"
             ],
             [
              0.5555555555555556,
              "#d8576b"
             ],
             [
              0.6666666666666666,
              "#ed7953"
             ],
             [
              0.7777777777777778,
              "#fb9f3a"
             ],
             [
              0.8888888888888888,
              "#fdca26"
             ],
             [
              1,
              "#f0f921"
             ]
            ],
            "type": "heatmap"
           }
          ],
          "heatmapgl": [
           {
            "colorbar": {
             "outlinewidth": 0,
             "ticks": ""
            },
            "colorscale": [
             [
              0,
              "#0d0887"
             ],
             [
              0.1111111111111111,
              "#46039f"
             ],
             [
              0.2222222222222222,
              "#7201a8"
             ],
             [
              0.3333333333333333,
              "#9c179e"
             ],
             [
              0.4444444444444444,
              "#bd3786"
             ],
             [
              0.5555555555555556,
              "#d8576b"
             ],
             [
              0.6666666666666666,
              "#ed7953"
             ],
             [
              0.7777777777777778,
              "#fb9f3a"
             ],
             [
              0.8888888888888888,
              "#fdca26"
             ],
             [
              1,
              "#f0f921"
             ]
            ],
            "type": "heatmapgl"
           }
          ],
          "histogram": [
           {
            "marker": {
             "pattern": {
              "fillmode": "overlay",
              "size": 10,
              "solidity": 0.2
             }
            },
            "type": "histogram"
           }
          ],
          "histogram2d": [
           {
            "colorbar": {
             "outlinewidth": 0,
             "ticks": ""
            },
            "colorscale": [
             [
              0,
              "#0d0887"
             ],
             [
              0.1111111111111111,
              "#46039f"
             ],
             [
              0.2222222222222222,
              "#7201a8"
             ],
             [
              0.3333333333333333,
              "#9c179e"
             ],
             [
              0.4444444444444444,
              "#bd3786"
             ],
             [
              0.5555555555555556,
              "#d8576b"
             ],
             [
              0.6666666666666666,
              "#ed7953"
             ],
             [
              0.7777777777777778,
              "#fb9f3a"
             ],
             [
              0.8888888888888888,
              "#fdca26"
             ],
             [
              1,
              "#f0f921"
             ]
            ],
            "type": "histogram2d"
           }
          ],
          "histogram2dcontour": [
           {
            "colorbar": {
             "outlinewidth": 0,
             "ticks": ""
            },
            "colorscale": [
             [
              0,
              "#0d0887"
             ],
             [
              0.1111111111111111,
              "#46039f"
             ],
             [
              0.2222222222222222,
              "#7201a8"
             ],
             [
              0.3333333333333333,
              "#9c179e"
             ],
             [
              0.4444444444444444,
              "#bd3786"
             ],
             [
              0.5555555555555556,
              "#d8576b"
             ],
             [
              0.6666666666666666,
              "#ed7953"
             ],
             [
              0.7777777777777778,
              "#fb9f3a"
             ],
             [
              0.8888888888888888,
              "#fdca26"
             ],
             [
              1,
              "#f0f921"
             ]
            ],
            "type": "histogram2dcontour"
           }
          ],
          "mesh3d": [
           {
            "colorbar": {
             "outlinewidth": 0,
             "ticks": ""
            },
            "type": "mesh3d"
           }
          ],
          "parcoords": [
           {
            "line": {
             "colorbar": {
              "outlinewidth": 0,
              "ticks": ""
             }
            },
            "type": "parcoords"
           }
          ],
          "pie": [
           {
            "automargin": true,
            "type": "pie"
           }
          ],
          "scatter": [
           {
            "fillpattern": {
             "fillmode": "overlay",
             "size": 10,
             "solidity": 0.2
            },
            "type": "scatter"
           }
          ],
          "scatter3d": [
           {
            "line": {
             "colorbar": {
              "outlinewidth": 0,
              "ticks": ""
             }
            },
            "marker": {
             "colorbar": {
              "outlinewidth": 0,
              "ticks": ""
             }
            },
            "type": "scatter3d"
           }
          ],
          "scattercarpet": [
           {
            "marker": {
             "colorbar": {
              "outlinewidth": 0,
              "ticks": ""
             }
            },
            "type": "scattercarpet"
           }
          ],
          "scattergeo": [
           {
            "marker": {
             "colorbar": {
              "outlinewidth": 0,
              "ticks": ""
             }
            },
            "type": "scattergeo"
           }
          ],
          "scattergl": [
           {
            "marker": {
             "colorbar": {
              "outlinewidth": 0,
              "ticks": ""
             }
            },
            "type": "scattergl"
           }
          ],
          "scattermapbox": [
           {
            "marker": {
             "colorbar": {
              "outlinewidth": 0,
              "ticks": ""
             }
            },
            "type": "scattermapbox"
           }
          ],
          "scatterpolar": [
           {
            "marker": {
             "colorbar": {
              "outlinewidth": 0,
              "ticks": ""
             }
            },
            "type": "scatterpolar"
           }
          ],
          "scatterpolargl": [
           {
            "marker": {
             "colorbar": {
              "outlinewidth": 0,
              "ticks": ""
             }
            },
            "type": "scatterpolargl"
           }
          ],
          "scatterternary": [
           {
            "marker": {
             "colorbar": {
              "outlinewidth": 0,
              "ticks": ""
             }
            },
            "type": "scatterternary"
           }
          ],
          "surface": [
           {
            "colorbar": {
             "outlinewidth": 0,
             "ticks": ""
            },
            "colorscale": [
             [
              0,
              "#0d0887"
             ],
             [
              0.1111111111111111,
              "#46039f"
             ],
             [
              0.2222222222222222,
              "#7201a8"
             ],
             [
              0.3333333333333333,
              "#9c179e"
             ],
             [
              0.4444444444444444,
              "#bd3786"
             ],
             [
              0.5555555555555556,
              "#d8576b"
             ],
             [
              0.6666666666666666,
              "#ed7953"
             ],
             [
              0.7777777777777778,
              "#fb9f3a"
             ],
             [
              0.8888888888888888,
              "#fdca26"
             ],
             [
              1,
              "#f0f921"
             ]
            ],
            "type": "surface"
           }
          ],
          "table": [
           {
            "cells": {
             "fill": {
              "color": "#EBF0F8"
             },
             "line": {
              "color": "white"
             }
            },
            "header": {
             "fill": {
              "color": "#C8D4E3"
             },
             "line": {
              "color": "white"
             }
            },
            "type": "table"
           }
          ]
         },
         "layout": {
          "annotationdefaults": {
           "arrowcolor": "#2a3f5f",
           "arrowhead": 0,
           "arrowwidth": 1
          },
          "autotypenumbers": "strict",
          "coloraxis": {
           "colorbar": {
            "outlinewidth": 0,
            "ticks": ""
           }
          },
          "colorscale": {
           "diverging": [
            [
             0,
             "#8e0152"
            ],
            [
             0.1,
             "#c51b7d"
            ],
            [
             0.2,
             "#de77ae"
            ],
            [
             0.3,
             "#f1b6da"
            ],
            [
             0.4,
             "#fde0ef"
            ],
            [
             0.5,
             "#f7f7f7"
            ],
            [
             0.6,
             "#e6f5d0"
            ],
            [
             0.7,
             "#b8e186"
            ],
            [
             0.8,
             "#7fbc41"
            ],
            [
             0.9,
             "#4d9221"
            ],
            [
             1,
             "#276419"
            ]
           ],
           "sequential": [
            [
             0,
             "#0d0887"
            ],
            [
             0.1111111111111111,
             "#46039f"
            ],
            [
             0.2222222222222222,
             "#7201a8"
            ],
            [
             0.3333333333333333,
             "#9c179e"
            ],
            [
             0.4444444444444444,
             "#bd3786"
            ],
            [
             0.5555555555555556,
             "#d8576b"
            ],
            [
             0.6666666666666666,
             "#ed7953"
            ],
            [
             0.7777777777777778,
             "#fb9f3a"
            ],
            [
             0.8888888888888888,
             "#fdca26"
            ],
            [
             1,
             "#f0f921"
            ]
           ],
           "sequentialminus": [
            [
             0,
             "#0d0887"
            ],
            [
             0.1111111111111111,
             "#46039f"
            ],
            [
             0.2222222222222222,
             "#7201a8"
            ],
            [
             0.3333333333333333,
             "#9c179e"
            ],
            [
             0.4444444444444444,
             "#bd3786"
            ],
            [
             0.5555555555555556,
             "#d8576b"
            ],
            [
             0.6666666666666666,
             "#ed7953"
            ],
            [
             0.7777777777777778,
             "#fb9f3a"
            ],
            [
             0.8888888888888888,
             "#fdca26"
            ],
            [
             1,
             "#f0f921"
            ]
           ]
          },
          "colorway": [
           "#636efa",
           "#EF553B",
           "#00cc96",
           "#ab63fa",
           "#FFA15A",
           "#19d3f3",
           "#FF6692",
           "#B6E880",
           "#FF97FF",
           "#FECB52"
          ],
          "font": {
           "color": "#2a3f5f"
          },
          "geo": {
           "bgcolor": "white",
           "lakecolor": "white",
           "landcolor": "#E5ECF6",
           "showlakes": true,
           "showland": true,
           "subunitcolor": "white"
          },
          "hoverlabel": {
           "align": "left"
          },
          "hovermode": "closest",
          "mapbox": {
           "style": "light"
          },
          "paper_bgcolor": "white",
          "plot_bgcolor": "#E5ECF6",
          "polar": {
           "angularaxis": {
            "gridcolor": "white",
            "linecolor": "white",
            "ticks": ""
           },
           "bgcolor": "#E5ECF6",
           "radialaxis": {
            "gridcolor": "white",
            "linecolor": "white",
            "ticks": ""
           }
          },
          "scene": {
           "xaxis": {
            "backgroundcolor": "#E5ECF6",
            "gridcolor": "white",
            "gridwidth": 2,
            "linecolor": "white",
            "showbackground": true,
            "ticks": "",
            "zerolinecolor": "white"
           },
           "yaxis": {
            "backgroundcolor": "#E5ECF6",
            "gridcolor": "white",
            "gridwidth": 2,
            "linecolor": "white",
            "showbackground": true,
            "ticks": "",
            "zerolinecolor": "white"
           },
           "zaxis": {
            "backgroundcolor": "#E5ECF6",
            "gridcolor": "white",
            "gridwidth": 2,
            "linecolor": "white",
            "showbackground": true,
            "ticks": "",
            "zerolinecolor": "white"
           }
          },
          "shapedefaults": {
           "line": {
            "color": "#2a3f5f"
           }
          },
          "ternary": {
           "aaxis": {
            "gridcolor": "white",
            "linecolor": "white",
            "ticks": ""
           },
           "baxis": {
            "gridcolor": "white",
            "linecolor": "white",
            "ticks": ""
           },
           "bgcolor": "#E5ECF6",
           "caxis": {
            "gridcolor": "white",
            "linecolor": "white",
            "ticks": ""
           }
          },
          "title": {
           "x": 0.05
          },
          "xaxis": {
           "automargin": true,
           "gridcolor": "white",
           "linecolor": "white",
           "ticks": "",
           "title": {
            "standoff": 15
           },
           "zerolinecolor": "white",
           "zerolinewidth": 2
          },
          "yaxis": {
           "automargin": true,
           "gridcolor": "white",
           "linecolor": "white",
           "ticks": "",
           "title": {
            "standoff": 15
           },
           "zerolinecolor": "white",
           "zerolinewidth": 2
          }
         }
        },
        "title": {
         "text": "3D State Value Plots for Blackjack"
        },
        "width": 1100
       }
      },
      "text/html": [
       "<div>                            <div id=\"46811909-e781-4641-abca-620bcc235145\" class=\"plotly-graph-div\" style=\"height:600px; width:1100px;\"></div>            <script type=\"text/javascript\">                require([\"plotly\"], function(Plotly) {                    window.PLOTLYENV=window.PLOTLYENV || {};                                    if (document.getElementById(\"46811909-e781-4641-abca-620bcc235145\")) {                    Plotly.newPlot(                        \"46811909-e781-4641-abca-620bcc235145\",                        [{\"colorscale\":[[0.0,\"#440154\"],[0.1111111111111111,\"#482878\"],[0.2222222222222222,\"#3e4989\"],[0.3333333333333333,\"#31688e\"],[0.4444444444444444,\"#26828e\"],[0.5555555555555556,\"#1f9e89\"],[0.6666666666666666,\"#35b779\"],[0.7777777777777778,\"#6ece58\"],[0.8888888888888888,\"#b5de2b\"],[1.0,\"#fde725\"]],\"x\":[[12,13,14,15,16,17,18,19,20,21],[12,13,14,15,16,17,18,19,20,21],[12,13,14,15,16,17,18,19,20,21],[12,13,14,15,16,17,18,19,20,21],[12,13,14,15,16,17,18,19,20,21],[12,13,14,15,16,17,18,19,20,21],[12,13,14,15,16,17,18,19,20,21],[12,13,14,15,16,17,18,19,20,21],[12,13,14,15,16,17,18,19,20,21],[12,13,14,15,16,17,18,19,20,21]],\"y\":[[1,1,1,1,1,1,1,1,1,1],[2,2,2,2,2,2,2,2,2,2],[3,3,3,3,3,3,3,3,3,3],[4,4,4,4,4,4,4,4,4,4],[5,5,5,5,5,5,5,5,5,5],[6,6,6,6,6,6,6,6,6,6],[7,7,7,7,7,7,7,7,7,7],[8,8,8,8,8,8,8,8,8,8],[9,9,9,9,9,9,9,9,9,9],[10,10,10,10,10,10,10,10,10,10]],\"z\":[[-0.6414747540274607,-0.679653227491122,-0.7023750862323848,-0.7035422848664686,-0.7130044843049341,-0.7373850459816066,-0.7463628266033258,-0.7592320089692381,0.0444586258242927,0.3208605390925832],[-0.540327005376937,-0.5749333333333343,-0.6100685135537662,-0.6271217045864931,-0.649815149170323,-0.6609100228688599,-0.6816046528968756,-0.6826372694509252,0.48348364373765707,0.5239126812198008],[-0.5439106145251401,-0.5704010462074939,-0.5963231736816652,-0.613183730715285,-0.6524834863172336,-0.6661629016862879,-0.6807251202367737,-0.6889474809377899,0.49050548274939787,0.5203047810432926],[-0.5360285109700443,-0.5772654155495984,-0.5904507710557536,-0.6172738062631228,-0.6286848551397993,-0.6576576576576603,-0.6790910454477281,-0.683705845025737,0.5032945840252849,0.5373196564089795],[-0.5381894550679758,-0.5647646371267663,-0.5930552823135944,-0.6276440554339876,-0.6465367211973574,-0.6601219222547701,-0.6686625252600835,-0.6772657234906815,0.5188418139237782,0.5429550392779557],[-0.519815567021629,-0.5806693842523064,-0.5767068273092351,-0.6062682748538037,-0.6285641763262546,-0.6537017810079031,-0.6673890300403544,-0.6780921921713157,0.5455696870547277,0.5587869748943578],[-0.5161185281667205,-0.5469914942770142,-0.5805250783699085,-0.6135522872868382,-0.61724313326551,-0.6492691452176705,-0.6696575444893056,-0.6672103247766283,0.5956569979394485,0.5793948487121782],[-0.5236582694414035,-0.5673046420640779,-0.5781679089839139,-0.6002383353194622,-0.6240894460443864,-0.6429532325710238,-0.669087369918397,-0.6728304265602036,0.6250269570843213,0.5634986684420802],[-0.536329085624859,-0.562959848644104,-0.5774936560609029,-0.5940005404918506,-0.6312062716007762,-0.6540437979286905,-0.6675655430711609,-0.6565754756283836,0.5901145904842364,0.5696741854636567],[-0.5681441361777418,-0.5987155472303939,-0.6224931183641361,-0.6460092182722569,-0.6637394804244384,-0.677199145691529,-0.6921114855430003,-0.7035856009070361,0.31243991026599244,0.5192006269592403]],\"type\":\"surface\",\"scene\":\"scene\"},{\"colorscale\":[[0.0,\"#440154\"],[0.1111111111111111,\"#482878\"],[0.2222222222222222,\"#3e4989\"],[0.3333333333333333,\"#31688e\"],[0.4444444444444444,\"#26828e\"],[0.5555555555555556,\"#1f9e89\"],[0.6666666666666666,\"#35b779\"],[0.7777777777777778,\"#6ece58\"],[0.8888888888888888,\"#b5de2b\"],[1.0,\"#fde725\"]],\"x\":[[12,13,14,15,16,17,18,19,20,21],[12,13,14,15,16,17,18,19,20,21],[12,13,14,15,16,17,18,19,20,21],[12,13,14,15,16,17,18,19,20,21],[12,13,14,15,16,17,18,19,20,21],[12,13,14,15,16,17,18,19,20,21],[12,13,14,15,16,17,18,19,20,21],[12,13,14,15,16,17,18,19,20,21],[12,13,14,15,16,17,18,19,20,21],[12,13,14,15,16,17,18,19,20,21]],\"y\":[[1,1,1,1,1,1,1,1,1,1],[2,2,2,2,2,2,2,2,2,2],[3,3,3,3,3,3,3,3,3,3],[4,4,4,4,4,4,4,4,4,4],[5,5,5,5,5,5,5,5,5,5],[6,6,6,6,6,6,6,6,6,6],[7,7,7,7,7,7,7,7,7,7],[8,8,8,8,8,8,8,8,8,8],[9,9,9,9,9,9,9,9,9,9],[10,10,10,10,10,10,10,10,10,10]],\"z\":[[-0.42562929061784893,-0.420124481327801,-0.46673490276356183,-0.49520488230165705,-0.4951219512195123,-0.5167737330478243,-0.5539182853315485,-0.5377588306942754,0.1269251194901751,0.6330367974120519],[-0.20408163265306126,-0.23917748917748924,-0.3200398803589232,-0.34133333333333404,-0.3533898305084741,-0.40495867768595045,-0.436860068259386,-0.39879879879879915,0.6620155038759682,0.8878545139640608],[-0.24943820224719113,-0.27882599580712747,-0.3279313632030501,-0.37972350230414725,-0.41399176954732475,-0.39258698940998515,-0.40385894876912887,-0.45356500898741803,0.6386375731772228,0.893513393845473],[-0.21304347826086956,-0.32221063607924955,-0.27857142857142875,-0.35860838537020506,-0.36467702371218297,-0.35415188076650095,-0.4125255275697753,-0.43317132442284384,0.6677299308878261,0.8872942169691828],[-0.23608017817371948,-0.2376636455186303,-0.32429906542056103,-0.3695466210436275,-0.34150076569678384,-0.3648351648351649,-0.4149797570850206,-0.4683038263849231,0.70708661417323,0.8922846762128651],[-0.3256351039260972,-0.2684782608695655,-0.27935222672064797,-0.37858347386172003,-0.3488372093023254,-0.39009071877180734,-0.44422442244224364,-0.4354838709677425,0.6816479400749049,0.9032676909759779],[-0.24737945492662508,-0.18415841584158402,-0.26082677165354345,-0.3003565062388598,-0.3367029548989113,-0.3405797101449281,-0.37868338557993797,-0.43379790940766594,0.7691146881287726,0.922077922077924],[-0.26914660831509846,-0.2668024439918531,-0.2702960840496651,-0.2788461538461535,-0.2725819344524383,-0.33429811866859604,-0.39655172413793094,-0.42759015455065835,0.7799791449426497,0.9312215231069662],[-0.19212962962962965,-0.18446601941747542,-0.21923076923076937,-0.2676295666949873,-0.31276778063410454,-0.3568406205923842,-0.40987812700448983,-0.384979302188054,0.7325933400605456,0.9469467301862285],[-0.3232662192393746,-0.31027987082884884,-0.3558580456976181,-0.36359733848465314,-0.40460460460460507,-0.43120260021668394,-0.46855551916147975,-0.46843267108167674,0.4304232804232806,0.892939721460452]],\"type\":\"surface\",\"scene\":\"scene2\"}],                        {\"template\":{\"data\":{\"histogram2dcontour\":[{\"type\":\"histogram2dcontour\",\"colorbar\":{\"outlinewidth\":0,\"ticks\":\"\"},\"colorscale\":[[0.0,\"#0d0887\"],[0.1111111111111111,\"#46039f\"],[0.2222222222222222,\"#7201a8\"],[0.3333333333333333,\"#9c179e\"],[0.4444444444444444,\"#bd3786\"],[0.5555555555555556,\"#d8576b\"],[0.6666666666666666,\"#ed7953\"],[0.7777777777777778,\"#fb9f3a\"],[0.8888888888888888,\"#fdca26\"],[1.0,\"#f0f921\"]]}],\"choropleth\":[{\"type\":\"choropleth\",\"colorbar\":{\"outlinewidth\":0,\"ticks\":\"\"}}],\"histogram2d\":[{\"type\":\"histogram2d\",\"colorbar\":{\"outlinewidth\":0,\"ticks\":\"\"},\"colorscale\":[[0.0,\"#0d0887\"],[0.1111111111111111,\"#46039f\"],[0.2222222222222222,\"#7201a8\"],[0.3333333333333333,\"#9c179e\"],[0.4444444444444444,\"#bd3786\"],[0.5555555555555556,\"#d8576b\"],[0.6666666666666666,\"#ed7953\"],[0.7777777777777778,\"#fb9f3a\"],[0.8888888888888888,\"#fdca26\"],[1.0,\"#f0f921\"]]}],\"heatmap\":[{\"type\":\"heatmap\",\"colorbar\":{\"outlinewidth\":0,\"ticks\":\"\"},\"colorscale\":[[0.0,\"#0d0887\"],[0.1111111111111111,\"#46039f\"],[0.2222222222222222,\"#7201a8\"],[0.3333333333333333,\"#9c179e\"],[0.4444444444444444,\"#bd3786\"],[0.5555555555555556,\"#d8576b\"],[0.6666666666666666,\"#ed7953\"],[0.7777777777777778,\"#fb9f3a\"],[0.8888888888888888,\"#fdca26\"],[1.0,\"#f0f921\"]]}],\"heatmapgl\":[{\"type\":\"heatmapgl\",\"colorbar\":{\"outlinewidth\":0,\"ticks\":\"\"},\"colorscale\":[[0.0,\"#0d0887\"],[0.1111111111111111,\"#46039f\"],[0.2222222222222222,\"#7201a8\"],[0.3333333333333333,\"#9c179e\"],[0.4444444444444444,\"#bd3786\"],[0.5555555555555556,\"#d8576b\"],[0.6666666666666666,\"#ed7953\"],[0.7777777777777778,\"#fb9f3a\"],[0.8888888888888888,\"#fdca26\"],[1.0,\"#f0f921\"]]}],\"contourcarpet\":[{\"type\":\"contourcarpet\",\"colorbar\":{\"outlinewidth\":0,\"ticks\":\"\"}}],\"contour\":[{\"type\":\"contour\",\"colorbar\":{\"outlinewidth\":0,\"ticks\":\"\"},\"colorscale\":[[0.0,\"#0d0887\"],[0.1111111111111111,\"#46039f\"],[0.2222222222222222,\"#7201a8\"],[0.3333333333333333,\"#9c179e\"],[0.4444444444444444,\"#bd3786\"],[0.5555555555555556,\"#d8576b\"],[0.6666666666666666,\"#ed7953\"],[0.7777777777777778,\"#fb9f3a\"],[0.8888888888888888,\"#fdca26\"],[1.0,\"#f0f921\"]]}],\"surface\":[{\"type\":\"surface\",\"colorbar\":{\"outlinewidth\":0,\"ticks\":\"\"},\"colorscale\":[[0.0,\"#0d0887\"],[0.1111111111111111,\"#46039f\"],[0.2222222222222222,\"#7201a8\"],[0.3333333333333333,\"#9c179e\"],[0.4444444444444444,\"#bd3786\"],[0.5555555555555556,\"#d8576b\"],[0.6666666666666666,\"#ed7953\"],[0.7777777777777778,\"#fb9f3a\"],[0.8888888888888888,\"#fdca26\"],[1.0,\"#f0f921\"]]}],\"mesh3d\":[{\"type\":\"mesh3d\",\"colorbar\":{\"outlinewidth\":0,\"ticks\":\"\"}}],\"scatter\":[{\"fillpattern\":{\"fillmode\":\"overlay\",\"size\":10,\"solidity\":0.2},\"type\":\"scatter\"}],\"parcoords\":[{\"type\":\"parcoords\",\"line\":{\"colorbar\":{\"outlinewidth\":0,\"ticks\":\"\"}}}],\"scatterpolargl\":[{\"type\":\"scatterpolargl\",\"marker\":{\"colorbar\":{\"outlinewidth\":0,\"ticks\":\"\"}}}],\"bar\":[{\"error_x\":{\"color\":\"#2a3f5f\"},\"error_y\":{\"color\":\"#2a3f5f\"},\"marker\":{\"line\":{\"color\":\"#E5ECF6\",\"width\":0.5},\"pattern\":{\"fillmode\":\"overlay\",\"size\":10,\"solidity\":0.2}},\"type\":\"bar\"}],\"scattergeo\":[{\"type\":\"scattergeo\",\"marker\":{\"colorbar\":{\"outlinewidth\":0,\"ticks\":\"\"}}}],\"scatterpolar\":[{\"type\":\"scatterpolar\",\"marker\":{\"colorbar\":{\"outlinewidth\":0,\"ticks\":\"\"}}}],\"histogram\":[{\"marker\":{\"pattern\":{\"fillmode\":\"overlay\",\"size\":10,\"solidity\":0.2}},\"type\":\"histogram\"}],\"scattergl\":[{\"type\":\"scattergl\",\"marker\":{\"colorbar\":{\"outlinewidth\":0,\"ticks\":\"\"}}}],\"scatter3d\":[{\"type\":\"scatter3d\",\"line\":{\"colorbar\":{\"outlinewidth\":0,\"ticks\":\"\"}},\"marker\":{\"colorbar\":{\"outlinewidth\":0,\"ticks\":\"\"}}}],\"scattermapbox\":[{\"type\":\"scattermapbox\",\"marker\":{\"colorbar\":{\"outlinewidth\":0,\"ticks\":\"\"}}}],\"scatterternary\":[{\"type\":\"scatterternary\",\"marker\":{\"colorbar\":{\"outlinewidth\":0,\"ticks\":\"\"}}}],\"scattercarpet\":[{\"type\":\"scattercarpet\",\"marker\":{\"colorbar\":{\"outlinewidth\":0,\"ticks\":\"\"}}}],\"carpet\":[{\"aaxis\":{\"endlinecolor\":\"#2a3f5f\",\"gridcolor\":\"white\",\"linecolor\":\"white\",\"minorgridcolor\":\"white\",\"startlinecolor\":\"#2a3f5f\"},\"baxis\":{\"endlinecolor\":\"#2a3f5f\",\"gridcolor\":\"white\",\"linecolor\":\"white\",\"minorgridcolor\":\"white\",\"startlinecolor\":\"#2a3f5f\"},\"type\":\"carpet\"}],\"table\":[{\"cells\":{\"fill\":{\"color\":\"#EBF0F8\"},\"line\":{\"color\":\"white\"}},\"header\":{\"fill\":{\"color\":\"#C8D4E3\"},\"line\":{\"color\":\"white\"}},\"type\":\"table\"}],\"barpolar\":[{\"marker\":{\"line\":{\"color\":\"#E5ECF6\",\"width\":0.5},\"pattern\":{\"fillmode\":\"overlay\",\"size\":10,\"solidity\":0.2}},\"type\":\"barpolar\"}],\"pie\":[{\"automargin\":true,\"type\":\"pie\"}]},\"layout\":{\"autotypenumbers\":\"strict\",\"colorway\":[\"#636efa\",\"#EF553B\",\"#00cc96\",\"#ab63fa\",\"#FFA15A\",\"#19d3f3\",\"#FF6692\",\"#B6E880\",\"#FF97FF\",\"#FECB52\"],\"font\":{\"color\":\"#2a3f5f\"},\"hovermode\":\"closest\",\"hoverlabel\":{\"align\":\"left\"},\"paper_bgcolor\":\"white\",\"plot_bgcolor\":\"#E5ECF6\",\"polar\":{\"bgcolor\":\"#E5ECF6\",\"angularaxis\":{\"gridcolor\":\"white\",\"linecolor\":\"white\",\"ticks\":\"\"},\"radialaxis\":{\"gridcolor\":\"white\",\"linecolor\":\"white\",\"ticks\":\"\"}},\"ternary\":{\"bgcolor\":\"#E5ECF6\",\"aaxis\":{\"gridcolor\":\"white\",\"linecolor\":\"white\",\"ticks\":\"\"},\"baxis\":{\"gridcolor\":\"white\",\"linecolor\":\"white\",\"ticks\":\"\"},\"caxis\":{\"gridcolor\":\"white\",\"linecolor\":\"white\",\"ticks\":\"\"}},\"coloraxis\":{\"colorbar\":{\"outlinewidth\":0,\"ticks\":\"\"}},\"colorscale\":{\"sequential\":[[0.0,\"#0d0887\"],[0.1111111111111111,\"#46039f\"],[0.2222222222222222,\"#7201a8\"],[0.3333333333333333,\"#9c179e\"],[0.4444444444444444,\"#bd3786\"],[0.5555555555555556,\"#d8576b\"],[0.6666666666666666,\"#ed7953\"],[0.7777777777777778,\"#fb9f3a\"],[0.8888888888888888,\"#fdca26\"],[1.0,\"#f0f921\"]],\"sequentialminus\":[[0.0,\"#0d0887\"],[0.1111111111111111,\"#46039f\"],[0.2222222222222222,\"#7201a8\"],[0.3333333333333333,\"#9c179e\"],[0.4444444444444444,\"#bd3786\"],[0.5555555555555556,\"#d8576b\"],[0.6666666666666666,\"#ed7953\"],[0.7777777777777778,\"#fb9f3a\"],[0.8888888888888888,\"#fdca26\"],[1.0,\"#f0f921\"]],\"diverging\":[[0,\"#8e0152\"],[0.1,\"#c51b7d\"],[0.2,\"#de77ae\"],[0.3,\"#f1b6da\"],[0.4,\"#fde0ef\"],[0.5,\"#f7f7f7\"],[0.6,\"#e6f5d0\"],[0.7,\"#b8e186\"],[0.8,\"#7fbc41\"],[0.9,\"#4d9221\"],[1,\"#276419\"]]},\"xaxis\":{\"gridcolor\":\"white\",\"linecolor\":\"white\",\"ticks\":\"\",\"title\":{\"standoff\":15},\"zerolinecolor\":\"white\",\"automargin\":true,\"zerolinewidth\":2},\"yaxis\":{\"gridcolor\":\"white\",\"linecolor\":\"white\",\"ticks\":\"\",\"title\":{\"standoff\":15},\"zerolinecolor\":\"white\",\"automargin\":true,\"zerolinewidth\":2},\"scene\":{\"xaxis\":{\"backgroundcolor\":\"#E5ECF6\",\"gridcolor\":\"white\",\"linecolor\":\"white\",\"showbackground\":true,\"ticks\":\"\",\"zerolinecolor\":\"white\",\"gridwidth\":2},\"yaxis\":{\"backgroundcolor\":\"#E5ECF6\",\"gridcolor\":\"white\",\"linecolor\":\"white\",\"showbackground\":true,\"ticks\":\"\",\"zerolinecolor\":\"white\",\"gridwidth\":2},\"zaxis\":{\"backgroundcolor\":\"#E5ECF6\",\"gridcolor\":\"white\",\"linecolor\":\"white\",\"showbackground\":true,\"ticks\":\"\",\"zerolinecolor\":\"white\",\"gridwidth\":2}},\"shapedefaults\":{\"line\":{\"color\":\"#2a3f5f\"}},\"annotationdefaults\":{\"arrowcolor\":\"#2a3f5f\",\"arrowhead\":0,\"arrowwidth\":1},\"geo\":{\"bgcolor\":\"white\",\"landcolor\":\"#E5ECF6\",\"subunitcolor\":\"white\",\"showland\":true,\"showlakes\":true,\"lakecolor\":\"white\"},\"title\":{\"x\":0.05},\"mapbox\":{\"style\":\"light\"}}},\"scene\":{\"domain\":{\"x\":[0.0,0.45],\"y\":[0.0,1.0]},\"xaxis\":{\"title\":{\"text\":\"Player's Sum\"}},\"yaxis\":{\"title\":{\"text\":\"Dealer's Showing Card\"}},\"zaxis\":{\"title\":{\"text\":\"State Value\"}}},\"scene2\":{\"domain\":{\"x\":[0.55,1.0],\"y\":[0.0,1.0]}},\"annotations\":[{\"font\":{\"size\":16},\"showarrow\":false,\"text\":\"State Values (No usable Ace)\",\"x\":0.225,\"xanchor\":\"center\",\"xref\":\"paper\",\"y\":1.0,\"yanchor\":\"bottom\",\"yref\":\"paper\"},{\"font\":{\"size\":16},\"showarrow\":false,\"text\":\"State Values (Usable Ace)\",\"x\":0.775,\"xanchor\":\"center\",\"xref\":\"paper\",\"y\":1.0,\"yanchor\":\"bottom\",\"yref\":\"paper\"}],\"title\":{\"text\":\"3D State Value Plots for Blackjack\"},\"width\":1100,\"height\":600},                        {\"responsive\": true}                    ).then(function(){\n",
       "                            \n",
       "var gd = document.getElementById('46811909-e781-4641-abca-620bcc235145');\n",
       "var x = new MutationObserver(function (mutations, observer) {{\n",
       "        var display = window.getComputedStyle(gd).display;\n",
       "        if (!display || display === 'none') {{\n",
       "            console.log([gd, 'removed!']);\n",
       "            Plotly.purge(gd);\n",
       "            observer.disconnect();\n",
       "        }}\n",
       "}});\n",
       "\n",
       "// Listen for the removal of the full notebook cells\n",
       "var notebookContainer = gd.closest('#notebook-container');\n",
       "if (notebookContainer) {{\n",
       "    x.observe(notebookContainer, {childList: true});\n",
       "}}\n",
       "\n",
       "// Listen for the clearing of the current output cell\n",
       "var outputEl = gd.closest('.output');\n",
       "if (outputEl) {{\n",
       "    x.observe(outputEl, {childList: true});\n",
       "}}\n",
       "\n",
       "                        })                };                });            </script>        </div>"
      ]
     },
     "metadata": {},
     "output_type": "display_data"
    }
   ],
   "source": [
    "import plotly.graph_objects as go\n",
    "from plotly.subplots import make_subplots  # Import make_subplots\n",
    "\n",
    "# Convert dealer showing card 'cols' to numeric (represent \"A\" as 1)\n",
    "cols_numeric = [1 if c == \"A\" else c for c in cols]\n",
    "\n",
    "X, Y = np.meshgrid(rows, cols_numeric)  # rows = player's sum, cols_numeric = dealer's showing card (numeric)\n",
    "\n",
    "Z1 = state_value[:, :, 0].T  # Take the transpose to match the axes for the first usable ace (0)\n",
    "\n",
    "Z2 = state_value[:, :, 1].T  # Take the transpose to match the axes for the second usable ace (1)\n",
    "\n",
    "fig = make_subplots(rows=1, cols=2, specs=[[{'type':'surface'}, {'type':'surface'}]], \n",
    "               subplot_titles=('State Values (No usable Ace)', 'State Values (Usable Ace)'))\n",
    "\n",
    "fig.add_trace(go.Surface(z=Z1, x=X, y=Y, colorscale='Viridis'), row=1, col=1)\n",
    "\n",
    "fig.add_trace(go.Surface(z=Z2, x=X, y=Y, colorscale='Viridis'), row=1, col=2)\n",
    "\n",
    "# Update layout\n",
    "fig.update_layout(\n",
    "    title='3D State Value Plots for Blackjack',\n",
    "    scene=dict(\n",
    "        xaxis_title=\"Player's Sum\",\n",
    "        yaxis_title=\"Dealer's Showing Card\",\n",
    "        zaxis_title='State Value',\n",
    "    ),\n",
    "    width=1100,  # Increase width\n",
    "    height=600   # Increase height\n",
    ")\n",
    "\n",
    "fig.show()"
   ]
  },
  {
   "cell_type": "code",
   "execution_count": null,
   "id": "ac900011",
   "metadata": {},
   "outputs": [],
   "source": []
  }
 ],
 "metadata": {
  "kernelspec": {
   "display_name": "Python 3 (ipykernel)",
   "language": "python",
   "name": "python3"
  },
  "language_info": {
   "codemirror_mode": {
    "name": "ipython",
    "version": 3
   },
   "file_extension": ".py",
   "mimetype": "text/x-python",
   "name": "python",
   "nbconvert_exporter": "python",
   "pygments_lexer": "ipython3",
   "version": "3.11.4"
  }
 },
 "nbformat": 4,
 "nbformat_minor": 5
}
