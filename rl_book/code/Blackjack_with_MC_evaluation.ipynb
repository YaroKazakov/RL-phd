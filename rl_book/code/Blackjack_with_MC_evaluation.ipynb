{
 "cells": [
  {
   "cell_type": "code",
   "execution_count": 30,
   "id": "a5842d6d",
   "metadata": {},
   "outputs": [],
   "source": [
    "import random\n",
    "import numpy as np"
   ]
  },
  {
   "cell_type": "code",
   "execution_count": 31,
   "id": "076c87df",
   "metadata": {},
   "outputs": [],
   "source": [
    "# Need to simulate 500,000 episodes with usable and non-usable ace\n",
    "# A usable ace is the one that can be used as 11 without going bust.\n",
    "# In this case it is always counted as 11 because counting it as 1 would make the sum 11 or less,\n",
    "# in which case there is no decision to be made because, obviously, the player should always hit."
   ]
  },
  {
   "cell_type": "code",
   "execution_count": 32,
   "id": "155b8f68",
   "metadata": {},
   "outputs": [],
   "source": [
    "rewards      = np.array([-1, 0, 1])\n",
    "gamma        = 1\n",
    "actions      = [\"hit\", \"stick\"]\n",
    "cards        = [2,3,4,5,6,7,8,9,10,10,10,10,\"A\"] #[2,3,4,5,6,7,8,9,10,\"J\",\"Q\",\"K\",\"A\"]\n",
    "my_two_cards = random.choices(cards, k=2)\n",
    "dealers_card = random.choice(cards)\n",
    "episodes     = 1000000\n",
    "# Define the state space\n",
    "\n",
    "rows = list(range(12, 22))  # Player's sum\n",
    "cols = [\"A\"] + list(range(2, 11))  # Dealer's showing card\n",
    "usable = 2  # Do I have a usable Ace? (0 or 1)\n",
    "state_value = np.zeros((len(rows), len(cols), usable))\n",
    "\n",
    "visit_count = np.zeros((len(rows), len(cols), usable))"
   ]
  },
  {
   "cell_type": "code",
   "execution_count": 33,
   "id": "cc830ac5",
   "metadata": {},
   "outputs": [],
   "source": [
    "# Test the policy of sticking on 20 and 21 only"
   ]
  },
  {
   "cell_type": "code",
   "execution_count": 34,
   "id": "26464fa5",
   "metadata": {},
   "outputs": [],
   "source": [
    "#Helper functions\n",
    "\n",
    "def draw_a_card():\n",
    "    return random.choice(cards)\n",
    "\n",
    "def card_value(card):\n",
    "    if card == \"A\":\n",
    "        return 11 # usable by default \n",
    "    return int(card)\n",
    "\n",
    "def calculate_sum(hand):\n",
    "    total = sum(card_value(card) for card in hand)\n",
    "    ace_count = hand.count(\"A\")\n",
    "    # Adjust for usable ace\n",
    "    while total > 21 and ace_count > 0: #total can be below 21 with one usable ace or total can be >21 with no aces left hence bust\n",
    "        total -= 10\n",
    "        ace_count -= 1\n",
    "    usable_ace_count = ace_count\n",
    "    return total, usable_ace_count\n",
    "\n",
    "def has_usable_ace(count):\n",
    "    return True if count > 0 else False\n",
    "    \n",
    "def policy(player_sum):\n",
    "    return \"stick\" if player_sum >= 20 else \"hit\""
   ]
  },
  {
   "cell_type": "code",
   "execution_count": 35,
   "id": "2b017b8a",
   "metadata": {
    "scrolled": false
   },
   "outputs": [],
   "source": [
    "for episode in range(episodes):\n",
    "    # Player's and dealer's starting cards\n",
    "    dealer_hand = [draw_a_card(), draw_a_card()]\n",
    "    player_hand = [draw_a_card(), draw_a_card()]\n",
    "\n",
    "    # Dealer shows one card\n",
    "    dealer_showing_card = dealer_hand[0]\n",
    "    dealer_showing_card_idx = cols.index(dealer_showing_card)\n",
    "    \n",
    "    # Determine the player's initial sum and usable ace\n",
    "    player_sum, usable_ace_count = calculate_sum(player_hand)\n",
    "    usable_ace = has_usable_ace(usable_ace_count)\n",
    "    #print(f'Episode: {episode +1}, Player_hand: {player_hand}, Player_sum: {player_sum}, Usable_ace_count:{usable_ace_count}')    \n",
    "    \n",
    "    episode_states = []\n",
    "    \n",
    "    episode_states.append((int(player_sum - 12), dealer_showing_card_idx, int(usable_ace_count)))\n",
    "    \n",
    "    # PLAYER'S TURN\n",
    "    while policy(player_sum) == \"hit\":\n",
    "        player_hand.append(draw_a_card())\n",
    "        player_sum, usable_ace_count = calculate_sum(player_hand)\n",
    "        #print(f'Player_hand: {player_hand}, Player_sum: {player_sum}, Usable_ace_count:{usable_ace_count}')\n",
    "        if player_sum > 21:\n",
    "            reward = - 1\n",
    "            #print('BUST!')\n",
    "            break  # Player goes bust\n",
    "        episode_states.append((int(player_sum - 12), dealer_showing_card_idx, int(usable_ace_count)))\n",
    "    \n",
    "    # DEALER'S TURN (if player hasn't gone bust)\n",
    "    if player_sum <= 21:\n",
    "        dealer_sum,_ = calculate_sum(dealer_hand)\n",
    "        while dealer_sum < 17:  # Dealer hits on sums less than 17\n",
    "            dealer_hand.append(draw_a_card())\n",
    "            dealer_sum, _  = calculate_sum(dealer_hand)\n",
    "\n",
    "        # Determine outcome\n",
    "        if dealer_sum > 21 or player_sum > dealer_sum:\n",
    "            reward = 1  # Player wins\n",
    "        elif player_sum == dealer_sum:\n",
    "            reward = 0  # Draw\n",
    "        else:\n",
    "            reward = -1  # Player loses\n",
    "    else:\n",
    "        reward = -1  # Player goes bust\n",
    "        #dealer_wins += 1\n",
    "\n",
    "    G = reward # Since the reward is only awarded in the end and gamma is 1.\n",
    "    \n",
    "    for idx, state in enumerate(episode_states):\n",
    "         if state not in episode_states[:idx]:  # First visit to this state\n",
    "            visit_count[state[0], state[1], state[2]] += 1\n",
    "            # Incremental update of the state value\n",
    "            state_value[state[0], state[1], state[2]] += \\\n",
    "                (1 / visit_count[state]) * (G - state_value[state[0], state[1], state[2]])\n",
    "        \n"
   ]
  },
  {
   "cell_type": "code",
   "execution_count": 36,
   "id": "958b66cd",
   "metadata": {},
   "outputs": [
    {
     "data": {
      "application/vnd.plotly.v1+json": {
       "config": {
        "plotlyServerURL": "https://plot.ly"
       },
       "data": [
        {
         "colorscale": [
          [
           0,
           "#440154"
          ],
          [
           0.1111111111111111,
           "#482878"
          ],
          [
           0.2222222222222222,
           "#3e4989"
          ],
          [
           0.3333333333333333,
           "#31688e"
          ],
          [
           0.4444444444444444,
           "#26828e"
          ],
          [
           0.5555555555555556,
           "#1f9e89"
          ],
          [
           0.6666666666666666,
           "#35b779"
          ],
          [
           0.7777777777777778,
           "#6ece58"
          ],
          [
           0.8888888888888888,
           "#b5de2b"
          ],
          [
           1,
           "#fde725"
          ]
         ],
         "scene": "scene",
         "type": "surface",
         "x": [
          [
           12,
           13,
           14,
           15,
           16,
           17,
           18,
           19,
           20,
           21
          ],
          [
           12,
           13,
           14,
           15,
           16,
           17,
           18,
           19,
           20,
           21
          ],
          [
           12,
           13,
           14,
           15,
           16,
           17,
           18,
           19,
           20,
           21
          ],
          [
           12,
           13,
           14,
           15,
           16,
           17,
           18,
           19,
           20,
           21
          ],
          [
           12,
           13,
           14,
           15,
           16,
           17,
           18,
           19,
           20,
           21
          ],
          [
           12,
           13,
           14,
           15,
           16,
           17,
           18,
           19,
           20,
           21
          ],
          [
           12,
           13,
           14,
           15,
           16,
           17,
           18,
           19,
           20,
           21
          ],
          [
           12,
           13,
           14,
           15,
           16,
           17,
           18,
           19,
           20,
           21
          ],
          [
           12,
           13,
           14,
           15,
           16,
           17,
           18,
           19,
           20,
           21
          ],
          [
           12,
           13,
           14,
           15,
           16,
           17,
           18,
           19,
           20,
           21
          ]
         ],
         "y": [
          [
           1,
           1,
           1,
           1,
           1,
           1,
           1,
           1,
           1,
           1
          ],
          [
           2,
           2,
           2,
           2,
           2,
           2,
           2,
           2,
           2,
           2
          ],
          [
           3,
           3,
           3,
           3,
           3,
           3,
           3,
           3,
           3,
           3
          ],
          [
           4,
           4,
           4,
           4,
           4,
           4,
           4,
           4,
           4,
           4
          ],
          [
           5,
           5,
           5,
           5,
           5,
           5,
           5,
           5,
           5,
           5
          ],
          [
           6,
           6,
           6,
           6,
           6,
           6,
           6,
           6,
           6,
           6
          ],
          [
           7,
           7,
           7,
           7,
           7,
           7,
           7,
           7,
           7,
           7
          ],
          [
           8,
           8,
           8,
           8,
           8,
           8,
           8,
           8,
           8,
           8
          ],
          [
           9,
           9,
           9,
           9,
           9,
           9,
           9,
           9,
           9,
           9
          ],
          [
           10,
           10,
           10,
           10,
           10,
           10,
           10,
           10,
           10,
           10
          ]
         ],
         "z": [
          [
           -0.639752923009043,
           -0.6773076506871556,
           -0.6731366459627349,
           -0.6975799169225209,
           -0.7084216775506722,
           -0.7265464325265011,
           -0.7428741534568728,
           -0.7520497596833478,
           0.05249441548771381,
           0.32796270548785483
          ],
          [
           -0.5311595815713303,
           -0.5610604085180338,
           -0.5887850467289704,
           -0.6254371433830312,
           -0.6278166933918466,
           -0.6579200770341823,
           -0.6731320754716971,
           -0.6769895825951395,
           0.4912607907918574,
           0.532479338842976
          ],
          [
           -0.5351380617217112,
           -0.5753803596127242,
           -0.6052475833497727,
           -0.615691248414567,
           -0.6501450264459989,
           -0.6592174327978336,
           -0.6763281424633055,
           -0.6898245614035097,
           0.49549501233508586,
           0.5245429089112194
          ],
          [
           -0.5384700420075159,
           -0.573590982286637,
           -0.6010752688172055,
           -0.6178525464239797,
           -0.6549060005150639,
           -0.664215884301528,
           -0.6821294455489285,
           -0.6750920419144713,
           0.5084962446066162,
           0.5254474964942685
          ],
          [
           -0.5298738658995382,
           -0.5734755440637798,
           -0.6162390641895207,
           -0.6288374665806237,
           -0.6507253711201068,
           -0.6682224507554757,
           -0.6735415882574323,
           -0.6792413213885771,
           0.5056197989841139,
           0.5335861778339669
          ],
          [
           -0.5305874558303916,
           -0.5806858826004598,
           -0.5902520023442112,
           -0.5988286969253274,
           -0.626547455295738,
           -0.6469376436098584,
           -0.665409642117715,
           -0.6849256598136217,
           0.5411374057871698,
           0.5468698787282861
          ],
          [
           -0.5178054751836196,
           -0.5570554735287904,
           -0.5911045943304019,
           -0.6089334548769362,
           -0.6228704396243692,
           -0.6421110935274593,
           -0.6656882667268782,
           -0.6753752084491371,
           0.5975603202751357,
           0.5740817168799016
          ],
          [
           -0.5197721179624636,
           -0.5487102963120867,
           -0.5605203058286176,
           -0.6051950452948794,
           -0.6137865090403359,
           -0.63869876801675,
           -0.6651318232454505,
           -0.666294876263507,
           0.6178401270513528,
           0.5709626160408143
          ],
          [
           -0.52884402041269,
           -0.5493566758067948,
           -0.5922520054783801,
           -0.6101389139455181,
           -0.629610611895594,
           -0.6452361889511602,
           -0.6698600404161369,
           -0.6656926181033862,
           0.5861376723545841,
           0.5770029057700279
          ],
          [
           -0.5707331747203818,
           -0.6017687363892391,
           -0.6242751938932829,
           -0.6405569062801053,
           -0.6614492753623166,
           -0.6804656921479404,
           -0.7003144595575291,
           -0.6974127834758856,
           0.3088519263293803,
           0.524511724792208
          ]
         ]
        },
        {
         "colorscale": [
          [
           0,
           "#440154"
          ],
          [
           0.1111111111111111,
           "#482878"
          ],
          [
           0.2222222222222222,
           "#3e4989"
          ],
          [
           0.3333333333333333,
           "#31688e"
          ],
          [
           0.4444444444444444,
           "#26828e"
          ],
          [
           0.5555555555555556,
           "#1f9e89"
          ],
          [
           0.6666666666666666,
           "#35b779"
          ],
          [
           0.7777777777777778,
           "#6ece58"
          ],
          [
           0.8888888888888888,
           "#b5de2b"
          ],
          [
           1,
           "#fde725"
          ]
         ],
         "scene": "scene2",
         "type": "surface",
         "x": [
          [
           12,
           13,
           14,
           15,
           16,
           17,
           18,
           19,
           20,
           21
          ],
          [
           12,
           13,
           14,
           15,
           16,
           17,
           18,
           19,
           20,
           21
          ],
          [
           12,
           13,
           14,
           15,
           16,
           17,
           18,
           19,
           20,
           21
          ],
          [
           12,
           13,
           14,
           15,
           16,
           17,
           18,
           19,
           20,
           21
          ],
          [
           12,
           13,
           14,
           15,
           16,
           17,
           18,
           19,
           20,
           21
          ],
          [
           12,
           13,
           14,
           15,
           16,
           17,
           18,
           19,
           20,
           21
          ],
          [
           12,
           13,
           14,
           15,
           16,
           17,
           18,
           19,
           20,
           21
          ],
          [
           12,
           13,
           14,
           15,
           16,
           17,
           18,
           19,
           20,
           21
          ],
          [
           12,
           13,
           14,
           15,
           16,
           17,
           18,
           19,
           20,
           21
          ],
          [
           12,
           13,
           14,
           15,
           16,
           17,
           18,
           19,
           20,
           21
          ]
         ],
         "y": [
          [
           1,
           1,
           1,
           1,
           1,
           1,
           1,
           1,
           1,
           1
          ],
          [
           2,
           2,
           2,
           2,
           2,
           2,
           2,
           2,
           2,
           2
          ],
          [
           3,
           3,
           3,
           3,
           3,
           3,
           3,
           3,
           3,
           3
          ],
          [
           4,
           4,
           4,
           4,
           4,
           4,
           4,
           4,
           4,
           4
          ],
          [
           5,
           5,
           5,
           5,
           5,
           5,
           5,
           5,
           5,
           5
          ],
          [
           6,
           6,
           6,
           6,
           6,
           6,
           6,
           6,
           6,
           6
          ],
          [
           7,
           7,
           7,
           7,
           7,
           7,
           7,
           7,
           7,
           7
          ],
          [
           8,
           8,
           8,
           8,
           8,
           8,
           8,
           8,
           8,
           8
          ],
          [
           9,
           9,
           9,
           9,
           9,
           9,
           9,
           9,
           9,
           9
          ],
          [
           10,
           10,
           10,
           10,
           10,
           10,
           10,
           10,
           10,
           10
          ]
         ],
         "z": [
          [
           -0.45010615711252644,
           -0.4561586638830891,
           -0.4844844844844849,
           -0.49111318989710023,
           -0.47293233082706726,
           -0.5224719101123597,
           -0.524983344437042,
           -0.5244630071599048,
           0.12593783494105032,
           0.6438297872340413
          ],
          [
           -0.2346241457858771,
           -0.22722283205268928,
           -0.3106508875739644,
           -0.3336298932384342,
           -0.3563664596273288,
           -0.3886554621848742,
           -0.4221946683199011,
           -0.46472303206997095,
           0.6377277599142555,
           0.8754822117445346
          ],
          [
           -0.2704918032786889,
           -0.26051282051282043,
           -0.32587548638132247,
           -0.3898617511520737,
           -0.39248601119104765,
           -0.38194945848375467,
           -0.45561035758323093,
           -0.48217416715371103,
           0.6611479028697568,
           0.8868788142981706
          ],
          [
           -0.21956521739130425,
           -0.24086021505376334,
           -0.32544378698224846,
           -0.2849650349650347,
           -0.3268744734625105,
           -0.40850144092219026,
           -0.4232258064516135,
           -0.4393382352941171,
           0.6699380165289262,
           0.895623632385122
          ],
          [
           -0.2177033492822967,
           -0.2637021716649429,
           -0.3174904942965784,
           -0.32816537467700246,
           -0.35442073170731675,
           -0.4132231404958684,
           -0.41633466135458136,
           -0.4557823129251695,
           0.6474630021141637,
           0.8858408947035239
          ],
          [
           -0.23181818181818195,
           -0.23702252693437798,
           -0.2650840751730964,
           -0.3126637554585155,
           -0.3216039279869068,
           -0.39701492537313426,
           -0.423003194888179,
           -0.39234723015419715,
           0.7283884738527212,
           0.9003650418724524
          ],
          [
           -0.21237113402061855,
           -0.2256235827664397,
           -0.22200772200772195,
           -0.29964221824686976,
           -0.3157024793388429,
           -0.34432234432234415,
           -0.3817455029980012,
           -0.40301974448315925,
           0.7877659574468081,
           0.9214534377719731
          ],
          [
           -0.15555555555555559,
           -0.2679528403001072,
           -0.26848249027237414,
           -0.2787652011225442,
           -0.2943548387096779,
           -0.35676888556469666,
           -0.3725856697819311,
           -0.4072447859495062,
           0.7805526036131782,
           0.9270027190964246
          ],
          [
           -0.16244725738396615,
           -0.19453207150368024,
           -0.28921568627451,
           -0.335978835978836,
           -0.3113207547169811,
           -0.35181079083518113,
           -0.42584047462096264,
           -0.40734366035570796,
           0.7542643923240945,
           0.9400086318515318
          ],
          [
           -0.23601108033241006,
           -0.3292618162506634,
           -0.33756534727408527,
           -0.37242128121607,
           -0.38763592428513877,
           -0.40302491103202864,
           -0.44076370757180156,
           -0.46917557475472205,
           0.4334046536507074,
           0.8880047314371728
          ]
         ]
        }
       ],
       "layout": {
        "annotations": [
         {
          "font": {
           "size": 16
          },
          "showarrow": false,
          "text": "State Values (No usable Ace)",
          "x": 0.225,
          "xanchor": "center",
          "xref": "paper",
          "y": 1,
          "yanchor": "bottom",
          "yref": "paper"
         },
         {
          "font": {
           "size": 16
          },
          "showarrow": false,
          "text": "State Values (Usable Ace)",
          "x": 0.775,
          "xanchor": "center",
          "xref": "paper",
          "y": 1,
          "yanchor": "bottom",
          "yref": "paper"
         }
        ],
        "height": 600,
        "scene": {
         "domain": {
          "x": [
           0,
           0.45
          ],
          "y": [
           0,
           1
          ]
         },
         "xaxis": {
          "title": {
           "text": "Player's Sum"
          }
         },
         "yaxis": {
          "title": {
           "text": "Dealer's Showing Card"
          }
         },
         "zaxis": {
          "title": {
           "text": "State Value"
          }
         }
        },
        "scene2": {
         "domain": {
          "x": [
           0.55,
           1
          ],
          "y": [
           0,
           1
          ]
         }
        },
        "template": {
         "data": {
          "bar": [
           {
            "error_x": {
             "color": "#2a3f5f"
            },
            "error_y": {
             "color": "#2a3f5f"
            },
            "marker": {
             "line": {
              "color": "#E5ECF6",
              "width": 0.5
             },
             "pattern": {
              "fillmode": "overlay",
              "size": 10,
              "solidity": 0.2
             }
            },
            "type": "bar"
           }
          ],
          "barpolar": [
           {
            "marker": {
             "line": {
              "color": "#E5ECF6",
              "width": 0.5
             },
             "pattern": {
              "fillmode": "overlay",
              "size": 10,
              "solidity": 0.2
             }
            },
            "type": "barpolar"
           }
          ],
          "carpet": [
           {
            "aaxis": {
             "endlinecolor": "#2a3f5f",
             "gridcolor": "white",
             "linecolor": "white",
             "minorgridcolor": "white",
             "startlinecolor": "#2a3f5f"
            },
            "baxis": {
             "endlinecolor": "#2a3f5f",
             "gridcolor": "white",
             "linecolor": "white",
             "minorgridcolor": "white",
             "startlinecolor": "#2a3f5f"
            },
            "type": "carpet"
           }
          ],
          "choropleth": [
           {
            "colorbar": {
             "outlinewidth": 0,
             "ticks": ""
            },
            "type": "choropleth"
           }
          ],
          "contour": [
           {
            "colorbar": {
             "outlinewidth": 0,
             "ticks": ""
            },
            "colorscale": [
             [
              0,
              "#0d0887"
             ],
             [
              0.1111111111111111,
              "#46039f"
             ],
             [
              0.2222222222222222,
              "#7201a8"
             ],
             [
              0.3333333333333333,
              "#9c179e"
             ],
             [
              0.4444444444444444,
              "#bd3786"
             ],
             [
              0.5555555555555556,
              "#d8576b"
             ],
             [
              0.6666666666666666,
              "#ed7953"
             ],
             [
              0.7777777777777778,
              "#fb9f3a"
             ],
             [
              0.8888888888888888,
              "#fdca26"
             ],
             [
              1,
              "#f0f921"
             ]
            ],
            "type": "contour"
           }
          ],
          "contourcarpet": [
           {
            "colorbar": {
             "outlinewidth": 0,
             "ticks": ""
            },
            "type": "contourcarpet"
           }
          ],
          "heatmap": [
           {
            "colorbar": {
             "outlinewidth": 0,
             "ticks": ""
            },
            "colorscale": [
             [
              0,
              "#0d0887"
             ],
             [
              0.1111111111111111,
              "#46039f"
             ],
             [
              0.2222222222222222,
              "#7201a8"
             ],
             [
              0.3333333333333333,
              "#9c179e"
             ],
             [
              0.4444444444444444,
              "#bd3786"
             ],
             [
              0.5555555555555556,
              "#d8576b"
             ],
             [
              0.6666666666666666,
              "#ed7953"
             ],
             [
              0.7777777777777778,
              "#fb9f3a"
             ],
             [
              0.8888888888888888,
              "#fdca26"
             ],
             [
              1,
              "#f0f921"
             ]
            ],
            "type": "heatmap"
           }
          ],
          "heatmapgl": [
           {
            "colorbar": {
             "outlinewidth": 0,
             "ticks": ""
            },
            "colorscale": [
             [
              0,
              "#0d0887"
             ],
             [
              0.1111111111111111,
              "#46039f"
             ],
             [
              0.2222222222222222,
              "#7201a8"
             ],
             [
              0.3333333333333333,
              "#9c179e"
             ],
             [
              0.4444444444444444,
              "#bd3786"
             ],
             [
              0.5555555555555556,
              "#d8576b"
             ],
             [
              0.6666666666666666,
              "#ed7953"
             ],
             [
              0.7777777777777778,
              "#fb9f3a"
             ],
             [
              0.8888888888888888,
              "#fdca26"
             ],
             [
              1,
              "#f0f921"
             ]
            ],
            "type": "heatmapgl"
           }
          ],
          "histogram": [
           {
            "marker": {
             "pattern": {
              "fillmode": "overlay",
              "size": 10,
              "solidity": 0.2
             }
            },
            "type": "histogram"
           }
          ],
          "histogram2d": [
           {
            "colorbar": {
             "outlinewidth": 0,
             "ticks": ""
            },
            "colorscale": [
             [
              0,
              "#0d0887"
             ],
             [
              0.1111111111111111,
              "#46039f"
             ],
             [
              0.2222222222222222,
              "#7201a8"
             ],
             [
              0.3333333333333333,
              "#9c179e"
             ],
             [
              0.4444444444444444,
              "#bd3786"
             ],
             [
              0.5555555555555556,
              "#d8576b"
             ],
             [
              0.6666666666666666,
              "#ed7953"
             ],
             [
              0.7777777777777778,
              "#fb9f3a"
             ],
             [
              0.8888888888888888,
              "#fdca26"
             ],
             [
              1,
              "#f0f921"
             ]
            ],
            "type": "histogram2d"
           }
          ],
          "histogram2dcontour": [
           {
            "colorbar": {
             "outlinewidth": 0,
             "ticks": ""
            },
            "colorscale": [
             [
              0,
              "#0d0887"
             ],
             [
              0.1111111111111111,
              "#46039f"
             ],
             [
              0.2222222222222222,
              "#7201a8"
             ],
             [
              0.3333333333333333,
              "#9c179e"
             ],
             [
              0.4444444444444444,
              "#bd3786"
             ],
             [
              0.5555555555555556,
              "#d8576b"
             ],
             [
              0.6666666666666666,
              "#ed7953"
             ],
             [
              0.7777777777777778,
              "#fb9f3a"
             ],
             [
              0.8888888888888888,
              "#fdca26"
             ],
             [
              1,
              "#f0f921"
             ]
            ],
            "type": "histogram2dcontour"
           }
          ],
          "mesh3d": [
           {
            "colorbar": {
             "outlinewidth": 0,
             "ticks": ""
            },
            "type": "mesh3d"
           }
          ],
          "parcoords": [
           {
            "line": {
             "colorbar": {
              "outlinewidth": 0,
              "ticks": ""
             }
            },
            "type": "parcoords"
           }
          ],
          "pie": [
           {
            "automargin": true,
            "type": "pie"
           }
          ],
          "scatter": [
           {
            "fillpattern": {
             "fillmode": "overlay",
             "size": 10,
             "solidity": 0.2
            },
            "type": "scatter"
           }
          ],
          "scatter3d": [
           {
            "line": {
             "colorbar": {
              "outlinewidth": 0,
              "ticks": ""
             }
            },
            "marker": {
             "colorbar": {
              "outlinewidth": 0,
              "ticks": ""
             }
            },
            "type": "scatter3d"
           }
          ],
          "scattercarpet": [
           {
            "marker": {
             "colorbar": {
              "outlinewidth": 0,
              "ticks": ""
             }
            },
            "type": "scattercarpet"
           }
          ],
          "scattergeo": [
           {
            "marker": {
             "colorbar": {
              "outlinewidth": 0,
              "ticks": ""
             }
            },
            "type": "scattergeo"
           }
          ],
          "scattergl": [
           {
            "marker": {
             "colorbar": {
              "outlinewidth": 0,
              "ticks": ""
             }
            },
            "type": "scattergl"
           }
          ],
          "scattermapbox": [
           {
            "marker": {
             "colorbar": {
              "outlinewidth": 0,
              "ticks": ""
             }
            },
            "type": "scattermapbox"
           }
          ],
          "scatterpolar": [
           {
            "marker": {
             "colorbar": {
              "outlinewidth": 0,
              "ticks": ""
             }
            },
            "type": "scatterpolar"
           }
          ],
          "scatterpolargl": [
           {
            "marker": {
             "colorbar": {
              "outlinewidth": 0,
              "ticks": ""
             }
            },
            "type": "scatterpolargl"
           }
          ],
          "scatterternary": [
           {
            "marker": {
             "colorbar": {
              "outlinewidth": 0,
              "ticks": ""
             }
            },
            "type": "scatterternary"
           }
          ],
          "surface": [
           {
            "colorbar": {
             "outlinewidth": 0,
             "ticks": ""
            },
            "colorscale": [
             [
              0,
              "#0d0887"
             ],
             [
              0.1111111111111111,
              "#46039f"
             ],
             [
              0.2222222222222222,
              "#7201a8"
             ],
             [
              0.3333333333333333,
              "#9c179e"
             ],
             [
              0.4444444444444444,
              "#bd3786"
             ],
             [
              0.5555555555555556,
              "#d8576b"
             ],
             [
              0.6666666666666666,
              "#ed7953"
             ],
             [
              0.7777777777777778,
              "#fb9f3a"
             ],
             [
              0.8888888888888888,
              "#fdca26"
             ],
             [
              1,
              "#f0f921"
             ]
            ],
            "type": "surface"
           }
          ],
          "table": [
           {
            "cells": {
             "fill": {
              "color": "#EBF0F8"
             },
             "line": {
              "color": "white"
             }
            },
            "header": {
             "fill": {
              "color": "#C8D4E3"
             },
             "line": {
              "color": "white"
             }
            },
            "type": "table"
           }
          ]
         },
         "layout": {
          "annotationdefaults": {
           "arrowcolor": "#2a3f5f",
           "arrowhead": 0,
           "arrowwidth": 1
          },
          "autotypenumbers": "strict",
          "coloraxis": {
           "colorbar": {
            "outlinewidth": 0,
            "ticks": ""
           }
          },
          "colorscale": {
           "diverging": [
            [
             0,
             "#8e0152"
            ],
            [
             0.1,
             "#c51b7d"
            ],
            [
             0.2,
             "#de77ae"
            ],
            [
             0.3,
             "#f1b6da"
            ],
            [
             0.4,
             "#fde0ef"
            ],
            [
             0.5,
             "#f7f7f7"
            ],
            [
             0.6,
             "#e6f5d0"
            ],
            [
             0.7,
             "#b8e186"
            ],
            [
             0.8,
             "#7fbc41"
            ],
            [
             0.9,
             "#4d9221"
            ],
            [
             1,
             "#276419"
            ]
           ],
           "sequential": [
            [
             0,
             "#0d0887"
            ],
            [
             0.1111111111111111,
             "#46039f"
            ],
            [
             0.2222222222222222,
             "#7201a8"
            ],
            [
             0.3333333333333333,
             "#9c179e"
            ],
            [
             0.4444444444444444,
             "#bd3786"
            ],
            [
             0.5555555555555556,
             "#d8576b"
            ],
            [
             0.6666666666666666,
             "#ed7953"
            ],
            [
             0.7777777777777778,
             "#fb9f3a"
            ],
            [
             0.8888888888888888,
             "#fdca26"
            ],
            [
             1,
             "#f0f921"
            ]
           ],
           "sequentialminus": [
            [
             0,
             "#0d0887"
            ],
            [
             0.1111111111111111,
             "#46039f"
            ],
            [
             0.2222222222222222,
             "#7201a8"
            ],
            [
             0.3333333333333333,
             "#9c179e"
            ],
            [
             0.4444444444444444,
             "#bd3786"
            ],
            [
             0.5555555555555556,
             "#d8576b"
            ],
            [
             0.6666666666666666,
             "#ed7953"
            ],
            [
             0.7777777777777778,
             "#fb9f3a"
            ],
            [
             0.8888888888888888,
             "#fdca26"
            ],
            [
             1,
             "#f0f921"
            ]
           ]
          },
          "colorway": [
           "#636efa",
           "#EF553B",
           "#00cc96",
           "#ab63fa",
           "#FFA15A",
           "#19d3f3",
           "#FF6692",
           "#B6E880",
           "#FF97FF",
           "#FECB52"
          ],
          "font": {
           "color": "#2a3f5f"
          },
          "geo": {
           "bgcolor": "white",
           "lakecolor": "white",
           "landcolor": "#E5ECF6",
           "showlakes": true,
           "showland": true,
           "subunitcolor": "white"
          },
          "hoverlabel": {
           "align": "left"
          },
          "hovermode": "closest",
          "mapbox": {
           "style": "light"
          },
          "paper_bgcolor": "white",
          "plot_bgcolor": "#E5ECF6",
          "polar": {
           "angularaxis": {
            "gridcolor": "white",
            "linecolor": "white",
            "ticks": ""
           },
           "bgcolor": "#E5ECF6",
           "radialaxis": {
            "gridcolor": "white",
            "linecolor": "white",
            "ticks": ""
           }
          },
          "scene": {
           "xaxis": {
            "backgroundcolor": "#E5ECF6",
            "gridcolor": "white",
            "gridwidth": 2,
            "linecolor": "white",
            "showbackground": true,
            "ticks": "",
            "zerolinecolor": "white"
           },
           "yaxis": {
            "backgroundcolor": "#E5ECF6",
            "gridcolor": "white",
            "gridwidth": 2,
            "linecolor": "white",
            "showbackground": true,
            "ticks": "",
            "zerolinecolor": "white"
           },
           "zaxis": {
            "backgroundcolor": "#E5ECF6",
            "gridcolor": "white",
            "gridwidth": 2,
            "linecolor": "white",
            "showbackground": true,
            "ticks": "",
            "zerolinecolor": "white"
           }
          },
          "shapedefaults": {
           "line": {
            "color": "#2a3f5f"
           }
          },
          "ternary": {
           "aaxis": {
            "gridcolor": "white",
            "linecolor": "white",
            "ticks": ""
           },
           "baxis": {
            "gridcolor": "white",
            "linecolor": "white",
            "ticks": ""
           },
           "bgcolor": "#E5ECF6",
           "caxis": {
            "gridcolor": "white",
            "linecolor": "white",
            "ticks": ""
           }
          },
          "title": {
           "x": 0.05
          },
          "xaxis": {
           "automargin": true,
           "gridcolor": "white",
           "linecolor": "white",
           "ticks": "",
           "title": {
            "standoff": 15
           },
           "zerolinecolor": "white",
           "zerolinewidth": 2
          },
          "yaxis": {
           "automargin": true,
           "gridcolor": "white",
           "linecolor": "white",
           "ticks": "",
           "title": {
            "standoff": 15
           },
           "zerolinecolor": "white",
           "zerolinewidth": 2
          }
         }
        },
        "title": {
         "text": "3D State Value Plots for Blackjack"
        },
        "width": 1100
       }
      },
      "text/html": [
       "<div>                            <div id=\"d5c5f9a6-b041-4cf2-8f0d-90e2be9117ed\" class=\"plotly-graph-div\" style=\"height:600px; width:1100px;\"></div>            <script type=\"text/javascript\">                require([\"plotly\"], function(Plotly) {                    window.PLOTLYENV=window.PLOTLYENV || {};                                    if (document.getElementById(\"d5c5f9a6-b041-4cf2-8f0d-90e2be9117ed\")) {                    Plotly.newPlot(                        \"d5c5f9a6-b041-4cf2-8f0d-90e2be9117ed\",                        [{\"colorscale\":[[0.0,\"#440154\"],[0.1111111111111111,\"#482878\"],[0.2222222222222222,\"#3e4989\"],[0.3333333333333333,\"#31688e\"],[0.4444444444444444,\"#26828e\"],[0.5555555555555556,\"#1f9e89\"],[0.6666666666666666,\"#35b779\"],[0.7777777777777778,\"#6ece58\"],[0.8888888888888888,\"#b5de2b\"],[1.0,\"#fde725\"]],\"x\":[[12,13,14,15,16,17,18,19,20,21],[12,13,14,15,16,17,18,19,20,21],[12,13,14,15,16,17,18,19,20,21],[12,13,14,15,16,17,18,19,20,21],[12,13,14,15,16,17,18,19,20,21],[12,13,14,15,16,17,18,19,20,21],[12,13,14,15,16,17,18,19,20,21],[12,13,14,15,16,17,18,19,20,21],[12,13,14,15,16,17,18,19,20,21],[12,13,14,15,16,17,18,19,20,21]],\"y\":[[1,1,1,1,1,1,1,1,1,1],[2,2,2,2,2,2,2,2,2,2],[3,3,3,3,3,3,3,3,3,3],[4,4,4,4,4,4,4,4,4,4],[5,5,5,5,5,5,5,5,5,5],[6,6,6,6,6,6,6,6,6,6],[7,7,7,7,7,7,7,7,7,7],[8,8,8,8,8,8,8,8,8,8],[9,9,9,9,9,9,9,9,9,9],[10,10,10,10,10,10,10,10,10,10]],\"z\":[[-0.639752923009043,-0.6773076506871556,-0.6731366459627349,-0.6975799169225209,-0.7084216775506722,-0.7265464325265011,-0.7428741534568728,-0.7520497596833478,0.05249441548771381,0.32796270548785483],[-0.5311595815713303,-0.5610604085180338,-0.5887850467289704,-0.6254371433830312,-0.6278166933918466,-0.6579200770341823,-0.6731320754716971,-0.6769895825951395,0.4912607907918574,0.532479338842976],[-0.5351380617217112,-0.5753803596127242,-0.6052475833497727,-0.615691248414567,-0.6501450264459989,-0.6592174327978336,-0.6763281424633055,-0.6898245614035097,0.49549501233508586,0.5245429089112194],[-0.5384700420075159,-0.573590982286637,-0.6010752688172055,-0.6178525464239797,-0.6549060005150639,-0.664215884301528,-0.6821294455489285,-0.6750920419144713,0.5084962446066162,0.5254474964942685],[-0.5298738658995382,-0.5734755440637798,-0.6162390641895207,-0.6288374665806237,-0.6507253711201068,-0.6682224507554757,-0.6735415882574323,-0.6792413213885771,0.5056197989841139,0.5335861778339669],[-0.5305874558303916,-0.5806858826004598,-0.5902520023442112,-0.5988286969253274,-0.626547455295738,-0.6469376436098584,-0.665409642117715,-0.6849256598136217,0.5411374057871698,0.5468698787282861],[-0.5178054751836196,-0.5570554735287904,-0.5911045943304019,-0.6089334548769362,-0.6228704396243692,-0.6421110935274593,-0.6656882667268782,-0.6753752084491371,0.5975603202751357,0.5740817168799016],[-0.5197721179624636,-0.5487102963120867,-0.5605203058286176,-0.6051950452948794,-0.6137865090403359,-0.63869876801675,-0.6651318232454505,-0.666294876263507,0.6178401270513528,0.5709626160408143],[-0.52884402041269,-0.5493566758067948,-0.5922520054783801,-0.6101389139455181,-0.629610611895594,-0.6452361889511602,-0.6698600404161369,-0.6656926181033862,0.5861376723545841,0.5770029057700279],[-0.5707331747203818,-0.6017687363892391,-0.6242751938932829,-0.6405569062801053,-0.6614492753623166,-0.6804656921479404,-0.7003144595575291,-0.6974127834758856,0.3088519263293803,0.524511724792208]],\"type\":\"surface\",\"scene\":\"scene\"},{\"colorscale\":[[0.0,\"#440154\"],[0.1111111111111111,\"#482878\"],[0.2222222222222222,\"#3e4989\"],[0.3333333333333333,\"#31688e\"],[0.4444444444444444,\"#26828e\"],[0.5555555555555556,\"#1f9e89\"],[0.6666666666666666,\"#35b779\"],[0.7777777777777778,\"#6ece58\"],[0.8888888888888888,\"#b5de2b\"],[1.0,\"#fde725\"]],\"x\":[[12,13,14,15,16,17,18,19,20,21],[12,13,14,15,16,17,18,19,20,21],[12,13,14,15,16,17,18,19,20,21],[12,13,14,15,16,17,18,19,20,21],[12,13,14,15,16,17,18,19,20,21],[12,13,14,15,16,17,18,19,20,21],[12,13,14,15,16,17,18,19,20,21],[12,13,14,15,16,17,18,19,20,21],[12,13,14,15,16,17,18,19,20,21],[12,13,14,15,16,17,18,19,20,21]],\"y\":[[1,1,1,1,1,1,1,1,1,1],[2,2,2,2,2,2,2,2,2,2],[3,3,3,3,3,3,3,3,3,3],[4,4,4,4,4,4,4,4,4,4],[5,5,5,5,5,5,5,5,5,5],[6,6,6,6,6,6,6,6,6,6],[7,7,7,7,7,7,7,7,7,7],[8,8,8,8,8,8,8,8,8,8],[9,9,9,9,9,9,9,9,9,9],[10,10,10,10,10,10,10,10,10,10]],\"z\":[[-0.45010615711252644,-0.4561586638830891,-0.4844844844844849,-0.49111318989710023,-0.47293233082706726,-0.5224719101123597,-0.524983344437042,-0.5244630071599048,0.12593783494105032,0.6438297872340413],[-0.2346241457858771,-0.22722283205268928,-0.3106508875739644,-0.3336298932384342,-0.3563664596273288,-0.3886554621848742,-0.4221946683199011,-0.46472303206997095,0.6377277599142555,0.8754822117445346],[-0.2704918032786889,-0.26051282051282043,-0.32587548638132247,-0.3898617511520737,-0.39248601119104765,-0.38194945848375467,-0.45561035758323093,-0.48217416715371103,0.6611479028697568,0.8868788142981706],[-0.21956521739130425,-0.24086021505376334,-0.32544378698224846,-0.2849650349650347,-0.3268744734625105,-0.40850144092219026,-0.4232258064516135,-0.4393382352941171,0.6699380165289262,0.895623632385122],[-0.2177033492822967,-0.2637021716649429,-0.3174904942965784,-0.32816537467700246,-0.35442073170731675,-0.4132231404958684,-0.41633466135458136,-0.4557823129251695,0.6474630021141637,0.8858408947035239],[-0.23181818181818195,-0.23702252693437798,-0.2650840751730964,-0.3126637554585155,-0.3216039279869068,-0.39701492537313426,-0.423003194888179,-0.39234723015419715,0.7283884738527212,0.9003650418724524],[-0.21237113402061855,-0.2256235827664397,-0.22200772200772195,-0.29964221824686976,-0.3157024793388429,-0.34432234432234415,-0.3817455029980012,-0.40301974448315925,0.7877659574468081,0.9214534377719731],[-0.15555555555555559,-0.2679528403001072,-0.26848249027237414,-0.2787652011225442,-0.2943548387096779,-0.35676888556469666,-0.3725856697819311,-0.4072447859495062,0.7805526036131782,0.9270027190964246],[-0.16244725738396615,-0.19453207150368024,-0.28921568627451,-0.335978835978836,-0.3113207547169811,-0.35181079083518113,-0.42584047462096264,-0.40734366035570796,0.7542643923240945,0.9400086318515318],[-0.23601108033241006,-0.3292618162506634,-0.33756534727408527,-0.37242128121607,-0.38763592428513877,-0.40302491103202864,-0.44076370757180156,-0.46917557475472205,0.4334046536507074,0.8880047314371728]],\"type\":\"surface\",\"scene\":\"scene2\"}],                        {\"template\":{\"data\":{\"histogram2dcontour\":[{\"type\":\"histogram2dcontour\",\"colorbar\":{\"outlinewidth\":0,\"ticks\":\"\"},\"colorscale\":[[0.0,\"#0d0887\"],[0.1111111111111111,\"#46039f\"],[0.2222222222222222,\"#7201a8\"],[0.3333333333333333,\"#9c179e\"],[0.4444444444444444,\"#bd3786\"],[0.5555555555555556,\"#d8576b\"],[0.6666666666666666,\"#ed7953\"],[0.7777777777777778,\"#fb9f3a\"],[0.8888888888888888,\"#fdca26\"],[1.0,\"#f0f921\"]]}],\"choropleth\":[{\"type\":\"choropleth\",\"colorbar\":{\"outlinewidth\":0,\"ticks\":\"\"}}],\"histogram2d\":[{\"type\":\"histogram2d\",\"colorbar\":{\"outlinewidth\":0,\"ticks\":\"\"},\"colorscale\":[[0.0,\"#0d0887\"],[0.1111111111111111,\"#46039f\"],[0.2222222222222222,\"#7201a8\"],[0.3333333333333333,\"#9c179e\"],[0.4444444444444444,\"#bd3786\"],[0.5555555555555556,\"#d8576b\"],[0.6666666666666666,\"#ed7953\"],[0.7777777777777778,\"#fb9f3a\"],[0.8888888888888888,\"#fdca26\"],[1.0,\"#f0f921\"]]}],\"heatmap\":[{\"type\":\"heatmap\",\"colorbar\":{\"outlinewidth\":0,\"ticks\":\"\"},\"colorscale\":[[0.0,\"#0d0887\"],[0.1111111111111111,\"#46039f\"],[0.2222222222222222,\"#7201a8\"],[0.3333333333333333,\"#9c179e\"],[0.4444444444444444,\"#bd3786\"],[0.5555555555555556,\"#d8576b\"],[0.6666666666666666,\"#ed7953\"],[0.7777777777777778,\"#fb9f3a\"],[0.8888888888888888,\"#fdca26\"],[1.0,\"#f0f921\"]]}],\"heatmapgl\":[{\"type\":\"heatmapgl\",\"colorbar\":{\"outlinewidth\":0,\"ticks\":\"\"},\"colorscale\":[[0.0,\"#0d0887\"],[0.1111111111111111,\"#46039f\"],[0.2222222222222222,\"#7201a8\"],[0.3333333333333333,\"#9c179e\"],[0.4444444444444444,\"#bd3786\"],[0.5555555555555556,\"#d8576b\"],[0.6666666666666666,\"#ed7953\"],[0.7777777777777778,\"#fb9f3a\"],[0.8888888888888888,\"#fdca26\"],[1.0,\"#f0f921\"]]}],\"contourcarpet\":[{\"type\":\"contourcarpet\",\"colorbar\":{\"outlinewidth\":0,\"ticks\":\"\"}}],\"contour\":[{\"type\":\"contour\",\"colorbar\":{\"outlinewidth\":0,\"ticks\":\"\"},\"colorscale\":[[0.0,\"#0d0887\"],[0.1111111111111111,\"#46039f\"],[0.2222222222222222,\"#7201a8\"],[0.3333333333333333,\"#9c179e\"],[0.4444444444444444,\"#bd3786\"],[0.5555555555555556,\"#d8576b\"],[0.6666666666666666,\"#ed7953\"],[0.7777777777777778,\"#fb9f3a\"],[0.8888888888888888,\"#fdca26\"],[1.0,\"#f0f921\"]]}],\"surface\":[{\"type\":\"surface\",\"colorbar\":{\"outlinewidth\":0,\"ticks\":\"\"},\"colorscale\":[[0.0,\"#0d0887\"],[0.1111111111111111,\"#46039f\"],[0.2222222222222222,\"#7201a8\"],[0.3333333333333333,\"#9c179e\"],[0.4444444444444444,\"#bd3786\"],[0.5555555555555556,\"#d8576b\"],[0.6666666666666666,\"#ed7953\"],[0.7777777777777778,\"#fb9f3a\"],[0.8888888888888888,\"#fdca26\"],[1.0,\"#f0f921\"]]}],\"mesh3d\":[{\"type\":\"mesh3d\",\"colorbar\":{\"outlinewidth\":0,\"ticks\":\"\"}}],\"scatter\":[{\"fillpattern\":{\"fillmode\":\"overlay\",\"size\":10,\"solidity\":0.2},\"type\":\"scatter\"}],\"parcoords\":[{\"type\":\"parcoords\",\"line\":{\"colorbar\":{\"outlinewidth\":0,\"ticks\":\"\"}}}],\"scatterpolargl\":[{\"type\":\"scatterpolargl\",\"marker\":{\"colorbar\":{\"outlinewidth\":0,\"ticks\":\"\"}}}],\"bar\":[{\"error_x\":{\"color\":\"#2a3f5f\"},\"error_y\":{\"color\":\"#2a3f5f\"},\"marker\":{\"line\":{\"color\":\"#E5ECF6\",\"width\":0.5},\"pattern\":{\"fillmode\":\"overlay\",\"size\":10,\"solidity\":0.2}},\"type\":\"bar\"}],\"scattergeo\":[{\"type\":\"scattergeo\",\"marker\":{\"colorbar\":{\"outlinewidth\":0,\"ticks\":\"\"}}}],\"scatterpolar\":[{\"type\":\"scatterpolar\",\"marker\":{\"colorbar\":{\"outlinewidth\":0,\"ticks\":\"\"}}}],\"histogram\":[{\"marker\":{\"pattern\":{\"fillmode\":\"overlay\",\"size\":10,\"solidity\":0.2}},\"type\":\"histogram\"}],\"scattergl\":[{\"type\":\"scattergl\",\"marker\":{\"colorbar\":{\"outlinewidth\":0,\"ticks\":\"\"}}}],\"scatter3d\":[{\"type\":\"scatter3d\",\"line\":{\"colorbar\":{\"outlinewidth\":0,\"ticks\":\"\"}},\"marker\":{\"colorbar\":{\"outlinewidth\":0,\"ticks\":\"\"}}}],\"scattermapbox\":[{\"type\":\"scattermapbox\",\"marker\":{\"colorbar\":{\"outlinewidth\":0,\"ticks\":\"\"}}}],\"scatterternary\":[{\"type\":\"scatterternary\",\"marker\":{\"colorbar\":{\"outlinewidth\":0,\"ticks\":\"\"}}}],\"scattercarpet\":[{\"type\":\"scattercarpet\",\"marker\":{\"colorbar\":{\"outlinewidth\":0,\"ticks\":\"\"}}}],\"carpet\":[{\"aaxis\":{\"endlinecolor\":\"#2a3f5f\",\"gridcolor\":\"white\",\"linecolor\":\"white\",\"minorgridcolor\":\"white\",\"startlinecolor\":\"#2a3f5f\"},\"baxis\":{\"endlinecolor\":\"#2a3f5f\",\"gridcolor\":\"white\",\"linecolor\":\"white\",\"minorgridcolor\":\"white\",\"startlinecolor\":\"#2a3f5f\"},\"type\":\"carpet\"}],\"table\":[{\"cells\":{\"fill\":{\"color\":\"#EBF0F8\"},\"line\":{\"color\":\"white\"}},\"header\":{\"fill\":{\"color\":\"#C8D4E3\"},\"line\":{\"color\":\"white\"}},\"type\":\"table\"}],\"barpolar\":[{\"marker\":{\"line\":{\"color\":\"#E5ECF6\",\"width\":0.5},\"pattern\":{\"fillmode\":\"overlay\",\"size\":10,\"solidity\":0.2}},\"type\":\"barpolar\"}],\"pie\":[{\"automargin\":true,\"type\":\"pie\"}]},\"layout\":{\"autotypenumbers\":\"strict\",\"colorway\":[\"#636efa\",\"#EF553B\",\"#00cc96\",\"#ab63fa\",\"#FFA15A\",\"#19d3f3\",\"#FF6692\",\"#B6E880\",\"#FF97FF\",\"#FECB52\"],\"font\":{\"color\":\"#2a3f5f\"},\"hovermode\":\"closest\",\"hoverlabel\":{\"align\":\"left\"},\"paper_bgcolor\":\"white\",\"plot_bgcolor\":\"#E5ECF6\",\"polar\":{\"bgcolor\":\"#E5ECF6\",\"angularaxis\":{\"gridcolor\":\"white\",\"linecolor\":\"white\",\"ticks\":\"\"},\"radialaxis\":{\"gridcolor\":\"white\",\"linecolor\":\"white\",\"ticks\":\"\"}},\"ternary\":{\"bgcolor\":\"#E5ECF6\",\"aaxis\":{\"gridcolor\":\"white\",\"linecolor\":\"white\",\"ticks\":\"\"},\"baxis\":{\"gridcolor\":\"white\",\"linecolor\":\"white\",\"ticks\":\"\"},\"caxis\":{\"gridcolor\":\"white\",\"linecolor\":\"white\",\"ticks\":\"\"}},\"coloraxis\":{\"colorbar\":{\"outlinewidth\":0,\"ticks\":\"\"}},\"colorscale\":{\"sequential\":[[0.0,\"#0d0887\"],[0.1111111111111111,\"#46039f\"],[0.2222222222222222,\"#7201a8\"],[0.3333333333333333,\"#9c179e\"],[0.4444444444444444,\"#bd3786\"],[0.5555555555555556,\"#d8576b\"],[0.6666666666666666,\"#ed7953\"],[0.7777777777777778,\"#fb9f3a\"],[0.8888888888888888,\"#fdca26\"],[1.0,\"#f0f921\"]],\"sequentialminus\":[[0.0,\"#0d0887\"],[0.1111111111111111,\"#46039f\"],[0.2222222222222222,\"#7201a8\"],[0.3333333333333333,\"#9c179e\"],[0.4444444444444444,\"#bd3786\"],[0.5555555555555556,\"#d8576b\"],[0.6666666666666666,\"#ed7953\"],[0.7777777777777778,\"#fb9f3a\"],[0.8888888888888888,\"#fdca26\"],[1.0,\"#f0f921\"]],\"diverging\":[[0,\"#8e0152\"],[0.1,\"#c51b7d\"],[0.2,\"#de77ae\"],[0.3,\"#f1b6da\"],[0.4,\"#fde0ef\"],[0.5,\"#f7f7f7\"],[0.6,\"#e6f5d0\"],[0.7,\"#b8e186\"],[0.8,\"#7fbc41\"],[0.9,\"#4d9221\"],[1,\"#276419\"]]},\"xaxis\":{\"gridcolor\":\"white\",\"linecolor\":\"white\",\"ticks\":\"\",\"title\":{\"standoff\":15},\"zerolinecolor\":\"white\",\"automargin\":true,\"zerolinewidth\":2},\"yaxis\":{\"gridcolor\":\"white\",\"linecolor\":\"white\",\"ticks\":\"\",\"title\":{\"standoff\":15},\"zerolinecolor\":\"white\",\"automargin\":true,\"zerolinewidth\":2},\"scene\":{\"xaxis\":{\"backgroundcolor\":\"#E5ECF6\",\"gridcolor\":\"white\",\"linecolor\":\"white\",\"showbackground\":true,\"ticks\":\"\",\"zerolinecolor\":\"white\",\"gridwidth\":2},\"yaxis\":{\"backgroundcolor\":\"#E5ECF6\",\"gridcolor\":\"white\",\"linecolor\":\"white\",\"showbackground\":true,\"ticks\":\"\",\"zerolinecolor\":\"white\",\"gridwidth\":2},\"zaxis\":{\"backgroundcolor\":\"#E5ECF6\",\"gridcolor\":\"white\",\"linecolor\":\"white\",\"showbackground\":true,\"ticks\":\"\",\"zerolinecolor\":\"white\",\"gridwidth\":2}},\"shapedefaults\":{\"line\":{\"color\":\"#2a3f5f\"}},\"annotationdefaults\":{\"arrowcolor\":\"#2a3f5f\",\"arrowhead\":0,\"arrowwidth\":1},\"geo\":{\"bgcolor\":\"white\",\"landcolor\":\"#E5ECF6\",\"subunitcolor\":\"white\",\"showland\":true,\"showlakes\":true,\"lakecolor\":\"white\"},\"title\":{\"x\":0.05},\"mapbox\":{\"style\":\"light\"}}},\"scene\":{\"domain\":{\"x\":[0.0,0.45],\"y\":[0.0,1.0]},\"xaxis\":{\"title\":{\"text\":\"Player's Sum\"}},\"yaxis\":{\"title\":{\"text\":\"Dealer's Showing Card\"}},\"zaxis\":{\"title\":{\"text\":\"State Value\"}}},\"scene2\":{\"domain\":{\"x\":[0.55,1.0],\"y\":[0.0,1.0]}},\"annotations\":[{\"font\":{\"size\":16},\"showarrow\":false,\"text\":\"State Values (No usable Ace)\",\"x\":0.225,\"xanchor\":\"center\",\"xref\":\"paper\",\"y\":1.0,\"yanchor\":\"bottom\",\"yref\":\"paper\"},{\"font\":{\"size\":16},\"showarrow\":false,\"text\":\"State Values (Usable Ace)\",\"x\":0.775,\"xanchor\":\"center\",\"xref\":\"paper\",\"y\":1.0,\"yanchor\":\"bottom\",\"yref\":\"paper\"}],\"title\":{\"text\":\"3D State Value Plots for Blackjack\"},\"width\":1100,\"height\":600},                        {\"responsive\": true}                    ).then(function(){\n",
       "                            \n",
       "var gd = document.getElementById('d5c5f9a6-b041-4cf2-8f0d-90e2be9117ed');\n",
       "var x = new MutationObserver(function (mutations, observer) {{\n",
       "        var display = window.getComputedStyle(gd).display;\n",
       "        if (!display || display === 'none') {{\n",
       "            console.log([gd, 'removed!']);\n",
       "            Plotly.purge(gd);\n",
       "            observer.disconnect();\n",
       "        }}\n",
       "}});\n",
       "\n",
       "// Listen for the removal of the full notebook cells\n",
       "var notebookContainer = gd.closest('#notebook-container');\n",
       "if (notebookContainer) {{\n",
       "    x.observe(notebookContainer, {childList: true});\n",
       "}}\n",
       "\n",
       "// Listen for the clearing of the current output cell\n",
       "var outputEl = gd.closest('.output');\n",
       "if (outputEl) {{\n",
       "    x.observe(outputEl, {childList: true});\n",
       "}}\n",
       "\n",
       "                        })                };                });            </script>        </div>"
      ]
     },
     "metadata": {},
     "output_type": "display_data"
    }
   ],
   "source": [
    "import plotly.graph_objects as go\n",
    "from plotly.subplots import make_subplots  # Import make_subplots\n",
    "\n",
    "# Convert dealer showing card 'cols' to numeric (represent \"A\" as 1)\n",
    "cols_numeric = [1 if c == \"A\" else c for c in cols]\n",
    "\n",
    "X, Y = np.meshgrid(rows, cols_numeric)  # rows = player's sum, cols_numeric = dealer's showing card (numeric)\n",
    "\n",
    "Z1 = state_value[:, :, 0].T  # Take the transpose to match the axes for the first usable ace (0)\n",
    "\n",
    "Z2 = state_value[:, :, 1].T  # Take the transpose to match the axes for the second usable ace (1)\n",
    "\n",
    "fig = make_subplots(rows=1, cols=2, specs=[[{'type':'surface'}, {'type':'surface'}]], \n",
    "               subplot_titles=('State Values (No usable Ace)', 'State Values (Usable Ace)'))\n",
    "\n",
    "fig.add_trace(go.Surface(z=Z1, x=X, y=Y, colorscale='Viridis'), row=1, col=1)\n",
    "\n",
    "fig.add_trace(go.Surface(z=Z2, x=X, y=Y, colorscale='Viridis'), row=1, col=2)\n",
    "\n",
    "# Update layout\n",
    "fig.update_layout(\n",
    "    title='3D State Value Plots for Blackjack',\n",
    "    scene=dict(\n",
    "        xaxis_title=\"Player's Sum\",\n",
    "        yaxis_title=\"Dealer's Showing Card\",\n",
    "        zaxis_title='State Value',\n",
    "    ),\n",
    "    width=1100,  # Increase width\n",
    "    height=600   # Increase height\n",
    ")\n",
    "fig.show()"
   ]
  }
 ],
 "metadata": {
  "kernelspec": {
   "display_name": "Python 3 (ipykernel)",
   "language": "python",
   "name": "python3"
  },
  "language_info": {
   "codemirror_mode": {
    "name": "ipython",
    "version": 3
   },
   "file_extension": ".py",
   "mimetype": "text/x-python",
   "name": "python",
   "nbconvert_exporter": "python",
   "pygments_lexer": "ipython3",
   "version": "3.11.4"
  }
 },
 "nbformat": 4,
 "nbformat_minor": 5
}
